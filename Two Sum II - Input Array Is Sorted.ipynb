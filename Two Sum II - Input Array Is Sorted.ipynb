{
 "cells": [
  {
   "cell_type": "markdown",
   "metadata": {},
   "source": [
    "Given a 1-indexed array of integers numbers that is already sorted in non-decreasing order, find two numbers such that they add up to a specific target number. Let these two numbers be numbers[index1] and numbers[index2] where 1 <= index1 < index2 <= numbers.length.\n",
    "\n",
    "Return the indices of the two numbers, index1 and index2, added by one as an integer array [index1, index2] of length 2.\n",
    "\n",
    "The tests are generated such that there is exactly one solution. You may not use the same element twice.\n",
    "\n",
    " \n",
    "\n",
    "Example 1:\n",
    "\n",
    "Input: numbers = [2,7,11,15], target = 9 \\\n",
    "Output: [1,2] \\\n",
    "Explanation: The sum of 2 and 7 is 9. Therefore, index1 = 1, index2 = 2. We return [1, 2]. \n",
    "\n",
    "Example 2:\n",
    "\n",
    "Input: numbers = [2,3,4], target = 6 \\\n",
    "Output: [1,3] \\\n",
    "Explanation: The sum of 2 and 4 is 6. Therefore index1 = 1, index2 = 3. We return [1, 3]. \n",
    "\n",
    "Example 3:\n",
    "\n",
    "Input: numbers = [-1,0], target = -1 \\\n",
    "Output: [1,2] \\\n",
    "Explanation: The sum of -1 and 0 is -1. Therefore index1 = 1, index2 = 2. We return [1, 2]."
   ]
  },
  {
   "cell_type": "code",
   "execution_count": 4,
   "metadata": {},
   "outputs": [
    {
     "name": "stdout",
     "output_type": "stream",
     "text": [
      "[1, 2]\n",
      "[1, 3]\n",
      "[1, 2]\n"
     ]
    }
   ],
   "source": [
    "class Solution:\n",
    "    def twoSum(self, numbers: list, target: int) -> list:\n",
    "        index1 = 0\n",
    "        index2 = len(numbers) -1\n",
    "        \n",
    "        while numbers[index1] + numbers[index2] != target:\n",
    "            if numbers[index1] + numbers[index2] > target:\n",
    "                index2 -=1\n",
    "            else: \n",
    "                index1 +=1\n",
    "            \n",
    "            \n",
    "        return [index1+1, index2+1]\n",
    "\n",
    "print(Solution().twoSum(numbers = [2,7,11,15], target = 9))\n",
    "print(Solution().twoSum(numbers = [2,3,4], target = 6))\n",
    "print(Solution().twoSum(numbers = [-1,0], target = -1))"
   ]
  }
 ],
 "metadata": {
  "kernelspec": {
   "display_name": "Python 3",
   "language": "python",
   "name": "python3"
  },
  "language_info": {
   "codemirror_mode": {
    "name": "ipython",
    "version": 3
   },
   "file_extension": ".py",
   "mimetype": "text/x-python",
   "name": "python",
   "nbconvert_exporter": "python",
   "pygments_lexer": "ipython3",
   "version": "3.8.5"
  }
 },
 "nbformat": 4,
 "nbformat_minor": 4
}

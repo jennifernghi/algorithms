{
 "cells": [
  {
   "cell_type": "markdown",
   "metadata": {},
   "source": [
    "Given an integer array nums sorted in non-decreasing order, return an array of the squares of each number sorted in non-decreasing order.\n",
    "\n",
    "Example 1:\n",
    "\n",
    "Input: nums = [-4,-1,0,3,10] \\\n",
    "Output: [0,1,9,16,100] \\\n",
    "Explanation: After squaring, the array becomes [16,1,0,9,100]. \\\n",
    "After sorting, it becomes [0,1,9,16,100]. \\\n",
    "\n",
    "Example 2:\n",
    "\n",
    "Input: nums = [-7,-3,2,3,11] \\\n",
    "Output: [4,9,9,49,121]\n",
    "\n",
    "Follow up: Squaring each element and sorting the new array is very trivial, could you find an O(n) solution using a different approach?"
   ]
  },
  {
   "cell_type": "code",
   "execution_count": 20,
   "metadata": {},
   "outputs": [
    {
     "data": {
      "text/plain": [
       "[0, 1, 9, 16, 100]"
      ]
     },
     "execution_count": 20,
     "metadata": {},
     "output_type": "execute_result"
    }
   ],
   "source": [
    "class Solution:\n",
    "    \"\"\"\n",
    "    Another efficient solution is based on the two-pointer method as the array is already sorted we can \n",
    "    compare the first and last element to check which is bigger and proceed with the result. \n",
    "    \n",
    "    Algorithm – \n",
    "\n",
    "    Initialize left=0 and right=n-1\n",
    "    if abs(left) >= abs(right) then store square(arr[left]) at the end of result array and increment left pointer\n",
    "    else store square(arr[right]) in the result array and decrement right pointer\n",
    "    decrement index of result array\n",
    "    \n",
    "    O(n) complexity\n",
    "    \"\"\"\n",
    "    def sortedSquares(self, nums: list) -> list:\n",
    "        head = 0\n",
    "        tail = len(nums) -1\n",
    "        i = len(nums) -1\n",
    "        temp_nums = [0 for i in nums]\n",
    "        \n",
    "        while i>=0:\n",
    "             \n",
    "            if abs(nums[head]) >= abs(nums[tail]):\n",
    "                temp_nums[i] = nums[head] **2\n",
    "                head += 1\n",
    "            else:\n",
    "                temp_nums[i] =   nums[tail]** 2\n",
    "                tail -= 1\n",
    "            i -= 1\n",
    "            \n",
    "        return temp_nums\n",
    "            \n",
    "    \n",
    "Solution().sortedSquares( [-4,-1,0,3,10])"
   ]
  }
 ],
 "metadata": {
  "kernelspec": {
   "display_name": "Python 3",
   "language": "python",
   "name": "python3"
  },
  "language_info": {
   "codemirror_mode": {
    "name": "ipython",
    "version": 3
   },
   "file_extension": ".py",
   "mimetype": "text/x-python",
   "name": "python",
   "nbconvert_exporter": "python",
   "pygments_lexer": "ipython3",
   "version": "3.8.5"
  }
 },
 "nbformat": 4,
 "nbformat_minor": 4
}

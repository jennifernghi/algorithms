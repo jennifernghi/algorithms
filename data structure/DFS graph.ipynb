{
 "cells": [
  {
   "cell_type": "markdown",
   "metadata": {},
   "source": [
    "# connected graph"
   ]
  },
  {
   "cell_type": "code",
   "execution_count": 11,
   "metadata": {},
   "outputs": [
    {
     "name": "stdout",
     "output_type": "stream",
     "text": [
      "defaultdict(<class 'list'>, {0: [1, 2], 1: [2], 2: [0, 3], 3: [3]})\n",
      "Following is DFS from (starting from vertex 2)\n",
      "2 0 1 3 None\n"
     ]
    }
   ],
   "source": [
    "# Python3 program to print DFS traversal\n",
    "# from a given given graph\n",
    "from collections import defaultdict\n",
    "\n",
    "# This class represents a directed graph using\n",
    "# adjacency list representation\n",
    "\n",
    "\n",
    "class Graph:\n",
    "\n",
    "    # Constructor\n",
    "    def __init__(self):\n",
    "\n",
    "        # default dictionary to store graph\n",
    "        self.graph = defaultdict(list)\n",
    "\n",
    "    # function to add an edge to graph\n",
    "    def addEdge(self, u, v):\n",
    "        self.graph[u].append(v)\n",
    "\n",
    "    # A function used by DFS\n",
    "    def DFSUtil(self, v, visited):\n",
    "\n",
    "        # Mark the current node as visited\n",
    "        # and print it\n",
    "        visited.add(v)\n",
    "        print(v, end=' ')\n",
    "\n",
    "        # Recur for all the vertices\n",
    "        # adjacent to this vertex\n",
    "        for neighbour in self.graph[v]:\n",
    "            if neighbour not in visited:\n",
    "                self.DFSUtil(neighbour, visited)\n",
    "\n",
    "    # The function to do DFS traversal. It uses\n",
    "    # recursive DFSUtil()\n",
    "    def DFS(self, v):\n",
    "\n",
    "        # Create a set to store visited vertices\n",
    "        visited = set()\n",
    "\n",
    "        # Call the recursive helper function\n",
    "        # to print DFS traversal\n",
    "        self.DFSUtil(v, visited)\n",
    "\n",
    "# Driver code\n",
    "\n",
    "\n",
    "# Create a graph given\n",
    "# in the above diagram\n",
    "g = Graph()\n",
    "g.addEdge(0, 1)\n",
    "g.addEdge(0, 2)\n",
    "g.addEdge(1, 2)\n",
    "g.addEdge(2, 0)\n",
    "g.addEdge(2, 3)\n",
    "g.addEdge(3, 3)\n",
    "\n",
    "print(g.graph)\n",
    "print(\"Following is DFS from (starting from vertex 2)\")\n",
    "print(g.DFS(2))\n",
    "\n",
    "# This code is contributed by Neelam Yadav"
   ]
  },
  {
   "cell_type": "markdown",
   "metadata": {},
   "source": [
    "# disconnected graph "
   ]
  },
  {
   "cell_type": "code",
   "execution_count": 12,
   "metadata": {},
   "outputs": [
    {
     "name": "stdout",
     "output_type": "stream",
     "text": [
      "0\n",
      "1\n",
      "2\n",
      "3\n"
     ]
    }
   ],
   "source": [
    "'''Python program to print DFS traversal for complete graph'''\n",
    "from collections import defaultdict\n",
    "\n",
    "# this class represents a directed graph using adjacency list representation\n",
    "\n",
    "\n",
    "class Graph:\n",
    "\t# Constructor\n",
    "\tdef __init__(self):\n",
    "\t\t# default dictionary to store graph\n",
    "\t\tself.graph = defaultdict(list)\n",
    "\n",
    "\t# Function to add an edge to graph\n",
    "\tdef addEdge(self, u, v):\n",
    "\t\tself.graph[u].append(v)\n",
    "\t# A function used by DFS\n",
    "\n",
    "\tdef DFSUtil(self, v, visited):\n",
    "\t\t# Mark the current node as visited and print it\n",
    "\t\tvisited.add(v)\n",
    "\t\tprint(v)\n",
    "\n",
    "\t\t# recur for all the vertices adjacent to this vertex\n",
    "\t\tfor neighbour in self.graph[v]:\n",
    "\t\t\tif neighbour not in visited:\n",
    "\t\t\t\tself.DFSUtil(neighbour, visited)\n",
    "\t\t# The function to do DFS traversal. It uses recursive DFSUtil\n",
    "\n",
    "\tdef DFS(self):\n",
    "\t\t# create a set to store all visited vertices\n",
    "\t\tvisited = set()\n",
    "\t\t# call the recursive helper function to print DFS traversal starting from all\n",
    "\t\t# vertices one by one\n",
    "\t\tfor vertex in self.graph:\n",
    "\t\t\tif vertex not in visited:\n",
    "\t\t\t\tself.DFSUtil(vertex, visited)\n",
    "# Driver code\n",
    "# create a graph given in the above diagram\n",
    "\n",
    "\n",
    "g = Graph()\n",
    "g.addEdge(0, 1)\n",
    "g.addEdge(0, 2)\n",
    "g.addEdge(1, 2)\n",
    "g.addEdge(2, 0)\n",
    "g.addEdge(2, 3)\n",
    "g.addEdge(3, 3)\n",
    "g.DFS()\n",
    "\n",
    "# Improved by Dheeraj Kumar\n"
   ]
  }
 ],
 "metadata": {
  "kernelspec": {
   "display_name": "Python 3",
   "language": "python",
   "name": "python3"
  },
  "language_info": {
   "codemirror_mode": {
    "name": "ipython",
    "version": 3
   },
   "file_extension": ".py",
   "mimetype": "text/x-python",
   "name": "python",
   "nbconvert_exporter": "python",
   "pygments_lexer": "ipython3",
   "version": "3.8.5"
  }
 },
 "nbformat": 4,
 "nbformat_minor": 4
}

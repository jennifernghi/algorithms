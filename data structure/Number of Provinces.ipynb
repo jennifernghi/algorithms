{
 "cells": [
  {
   "cell_type": "markdown",
   "metadata": {},
   "source": [
    "There are `n` cities. Some of them are connected, while some are not. If city `a` is connected directly with city `b`, and city `b` is connected directly with city `c`, then city `a` is connected indirectly with city `c`.\n",
    "\n",
    "A **province** is a group of directly or indirectly connected cities and no other cities outside of the group.\n",
    "\n",
    "You are given an `n x n` matrix `isConnected` where `isConnected[i][j] = 1` if the `ith` city and the `jth` city are directly connected, and `isConnected[i][j] = 0` otherwise.\n",
    "\n",
    "Return *the total number of **provinces***.\n",
    "\n",
    "**Example 1:**\n",
    "\n",
    "![https://assets.leetcode.com/uploads/2020/12/24/graph1.jpg](https://assets.leetcode.com/uploads/2020/12/24/graph1.jpg)\n",
    "\n",
    "```\n",
    "Input: isConnected = [[1,1,0],[1,1,0],[0,0,1]]\n",
    "Output: 2\n",
    "\n",
    "```\n",
    "\n",
    "**Example 2:**\n",
    "\n",
    "![https://assets.leetcode.com/uploads/2020/12/24/graph2.jpg](https://assets.leetcode.com/uploads/2020/12/24/graph2.jpg)\n",
    "\n",
    "```\n",
    "Input: isConnected = [[1,0,0],[0,1,0],[0,0,1]]\n",
    "Output: 3\n",
    "\n",
    "```\n",
    "\n",
    "**Constraints:**\n",
    "\n",
    "- `1 <= n <= 200`\n",
    "- `n == isConnected.length`\n",
    "- `n == isConnected[i].length`\n",
    "- `isConnected[i][j]` is `1` or `0`.\n",
    "- `isConnected[i][i] == 1`\n",
    "- `isConnected[i][j] == isConnected[j][i]`"
   ]
  },
  {
   "cell_type": "code",
   "execution_count": 4,
   "metadata": {},
   "outputs": [
    {
     "name": "stdout",
     "output_type": "stream",
     "text": [
      "2\n",
      "3\n"
     ]
    }
   ],
   "source": [
    "class Solution:\n",
    "    def findCircleNum(self, isConnected) -> int:\n",
    "        rows = len(isConnected)\n",
    "        # visited array for each node in graph\n",
    "        visited = [0 for row in range(rows)]\n",
    "        # number of friend circles/components\n",
    "        components = 0\n",
    "        # DFS traversal of each friend\n",
    "        for i in range(rows):\n",
    "            if visited[i] == 0:\n",
    "                # increment component when non-visited friend is found\n",
    "                # after a round of DFS\n",
    "                components+=1\n",
    "                self.dfs(isConnected, i, visited, rows)\n",
    "        return components\n",
    "    def dfs(self, isConnected, i, visited, rows):\n",
    "        # Mark this node i as visited\n",
    "        visited[i]=1\n",
    "        for j in range(rows):\n",
    "            # If j is a friend of i and j is not visited; visit j\n",
    "            if isConnected[i][j]==1 and visited[j]==0:\n",
    "                self.dfs(isConnected, j, visited, rows)\n",
    "                \n",
    "print(Solution().findCircleNum(isConnected = [[1,1,0],[1,1,0],[0,0,1]]))\n",
    "print(Solution().findCircleNum(isConnected = [[1,0,0],[0,1,0],[0,0,1]]))"
   ]
  }
 ],
 "metadata": {
  "kernelspec": {
   "display_name": "Python 3",
   "language": "python",
   "name": "python3"
  },
  "language_info": {
   "codemirror_mode": {
    "name": "ipython",
    "version": 3
   },
   "file_extension": ".py",
   "mimetype": "text/x-python",
   "name": "python",
   "nbconvert_exporter": "python",
   "pygments_lexer": "ipython3",
   "version": "3.8.5"
  }
 },
 "nbformat": 4,
 "nbformat_minor": 4
}

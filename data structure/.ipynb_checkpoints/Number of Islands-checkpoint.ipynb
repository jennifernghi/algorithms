{
 "cells": [
  {
   "cell_type": "markdown",
   "metadata": {},
   "source": [
    "Given an `m x n` 2D binary grid `grid` which represents a map of `'1'`s (land) and `'0'`s (water), return *the number of islands*.\n",
    "\n",
    "An **island** is surrounded by water and is formed by connecting adjacent lands horizontally or vertically. You may assume all four edges of the grid are all surrounded by water.\n",
    "\n",
    "**Example 1:**\n",
    "\n",
    "```\n",
    "Input: grid = [\n",
    "  [\"1\",\"1\",\"1\",\"1\",\"0\"],\n",
    "  [\"1\",\"1\",\"0\",\"1\",\"0\"],\n",
    "  [\"1\",\"1\",\"0\",\"0\",\"0\"],\n",
    "  [\"0\",\"0\",\"0\",\"0\",\"0\"]\n",
    "]\n",
    "Output: 1\n",
    "\n",
    "```\n",
    "\n",
    "**Example 2:**\n",
    "\n",
    "```\n",
    "Input: grid = [\n",
    "  [\"1\",\"1\",\"0\",\"0\",\"0\"],\n",
    "  [\"1\",\"1\",\"0\",\"0\",\"0\"],\n",
    "  [\"0\",\"0\",\"1\",\"0\",\"0\"],\n",
    "  [\"0\",\"0\",\"0\",\"1\",\"1\"]\n",
    "]\n",
    "Output: 3\n",
    "\n",
    "```\n",
    "\n",
    "**Constraints:**\n",
    "\n",
    "- `m == grid.length`\n",
    "- `n == grid[i].length`\n",
    "- `1 <= m, n <= 300`\n",
    "- `grid[i][j]` is `'0'` or `'1'`."
   ]
  },
  {
   "cell_type": "code",
   "execution_count": 13,
   "metadata": {},
   "outputs": [
    {
     "name": "stdout",
     "output_type": "stream",
     "text": [
      "1\n",
      "3\n"
     ]
    }
   ],
   "source": [
    "class Solution:\n",
    "    def numIslands(self, grid) -> int:\n",
    "        res = 0\n",
    "        row = len(grid)\n",
    "        col = len(grid[0])\n",
    "        \n",
    "        visited = [[0 for x in range(col)] for y in range(row)]\n",
    "         \n",
    "        def perm(i, j):\n",
    "            # check if we're on a land because if yes, we need\n",
    "            # to further visit the neighbors so as to \"visit\"\n",
    "            # the whole island, early return if it's not a land\n",
    "            if i < 0 or i >= row or j < 0 or j >= col or grid[i][j] == \"0\":\n",
    "                return\n",
    "            \n",
    "            # mark the current cell as visisted\n",
    "            # if not visited, otherwise, just return\n",
    "            if visited[i][j]:\n",
    "                return\n",
    "            visited[i][j] = 1\n",
    "            \n",
    "            # returning just for the sake of it, you can\n",
    "            # simply invoke the functions here since we're\n",
    "            # only concerned with visiting an island and keeping\n",
    "            # track of all the lands (\"1\")s for subsequent runs\n",
    "            return perm(i-1, j) or perm(i+1, j) or perm(i, j-1) or perm(i, j+1)\n",
    "        \n",
    "        \n",
    "        for x in range(row):\n",
    "            for y in range(col):\n",
    "                # process every cell which has a 1 recursively\n",
    "                # and since we're also marking the visited cells\n",
    "                # we can safely ignore them here\n",
    "                if grid[x][y] == \"1\" and not visited[x][y]:\n",
    "                    perm(x, y)\n",
    "                    res += 1\n",
    "                    \n",
    "        return res\n",
    "    \n",
    "print(Solution().numIslands(grid = [\n",
    "  [\"1\",\"1\",\"1\",\"1\",\"0\"],\n",
    "  [\"1\",\"1\",\"0\",\"1\",\"0\"],\n",
    "  [\"1\",\"1\",\"0\",\"0\",\"0\"],\n",
    "  [\"0\",\"0\",\"0\",\"0\",\"0\"]\n",
    "]))\n",
    "\n",
    "print(Solution().numIslands(grid = [\n",
    "  [\"1\",\"1\",\"0\",\"0\",\"0\"],\n",
    "  [\"1\",\"1\",\"0\",\"0\",\"0\"],\n",
    "  [\"0\",\"0\",\"1\",\"0\",\"0\"],\n",
    "  [\"0\",\"0\",\"0\",\"1\",\"1\"]\n",
    "]))"
   ]
  }
 ],
 "metadata": {
  "kernelspec": {
   "display_name": "Python 3",
   "language": "python",
   "name": "python3"
  },
  "language_info": {
   "codemirror_mode": {
    "name": "ipython",
    "version": 3
   },
   "file_extension": ".py",
   "mimetype": "text/x-python",
   "name": "python",
   "nbconvert_exporter": "python",
   "pygments_lexer": "ipython3",
   "version": "3.8.5"
  }
 },
 "nbformat": 4,
 "nbformat_minor": 4
}

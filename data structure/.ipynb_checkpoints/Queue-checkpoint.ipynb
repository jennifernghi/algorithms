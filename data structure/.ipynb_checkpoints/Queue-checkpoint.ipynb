{
 "cells": [
  {
   "cell_type": "code",
   "execution_count": 1,
   "metadata": {},
   "outputs": [
    {
     "name": "stdout",
     "output_type": "stream",
     "text": [
      "Initial queue\n",
      "['a', 'b', 'c']\n",
      "\n",
      "Elements dequeued from queue\n",
      "a\n",
      "b\n",
      "c\n",
      "\n",
      "Queue after removing elements\n",
      "[]\n"
     ]
    }
   ],
   "source": [
    "# Python program to\n",
    "# demonstrate queue implementation\n",
    "# using list\n",
    "\n",
    "# Initializing a queue\n",
    "queue = []\n",
    "\n",
    "# Adding elements to the queue\n",
    "queue.append('a')\n",
    "queue.append('b')\n",
    "queue.append('c')\n",
    "\n",
    "print(\"Initial queue\")\n",
    "print(queue)\n",
    "\n",
    "# Removing elements from the queue\n",
    "print(\"\\nElements dequeued from queue\")\n",
    "print(queue.pop(0))\n",
    "print(queue.pop(0))\n",
    "print(queue.pop(0))\n",
    "\n",
    "print(\"\\nQueue after removing elements\")\n",
    "print(queue)\n",
    "\n",
    "# Uncommenting print(queue.pop(0))\n",
    "# will raise and IndexError\n",
    "# as the queue is now empty\n"
   ]
  },
  {
   "cell_type": "code",
   "execution_count": 2,
   "metadata": {},
   "outputs": [
    {
     "name": "stdout",
     "output_type": "stream",
     "text": [
      "Initial queue\n",
      "deque(['a', 'b', 'c'])\n",
      "\n",
      "Elements dequeued from the queue\n",
      "a\n",
      "b\n",
      "c\n",
      "\n",
      "Queue after removing elements\n",
      "deque([])\n"
     ]
    }
   ],
   "source": [
    "# Python program to\n",
    "# demonstrate queue implementation\n",
    "# using collections.dequeue\n",
    "\n",
    "\n",
    "from collections import deque\n",
    "\n",
    "# Initializing a queue\n",
    "q = deque()\n",
    "\n",
    "# Adding elements to a queue\n",
    "q.append('a')\n",
    "q.append('b')\n",
    "q.append('c')\n",
    "\n",
    "print(\"Initial queue\")\n",
    "print(q)\n",
    "\n",
    "# Removing elements from a queue\n",
    "print(\"\\nElements dequeued from the queue\")\n",
    "print(q.popleft())\n",
    "print(q.popleft())\n",
    "print(q.popleft())\n",
    "\n",
    "print(\"\\nQueue after removing elements\")\n",
    "print(q)\n",
    "\n",
    "# Uncommenting q.popleft()\n",
    "# will raise an IndexError\n",
    "# as queue is now empty\n"
   ]
  },
  {
   "cell_type": "code",
   "execution_count": 3,
   "metadata": {},
   "outputs": [
    {
     "name": "stdout",
     "output_type": "stream",
     "text": [
      "0\n",
      "\n",
      "Full:  True\n",
      "\n",
      "Elements dequeued from the queue\n",
      "a\n",
      "b\n",
      "c\n",
      "\n",
      "Empty:  True\n",
      "\n",
      "Empty:  False\n",
      "Full:  False\n"
     ]
    }
   ],
   "source": [
    "# Python program to\n",
    "# demonstrate implementation of\n",
    "# queue using queue module\n",
    "\n",
    "\n",
    "from queue import Queue\n",
    "\n",
    "# Initializing a queue\n",
    "q = Queue(maxsize = 3)\n",
    "\n",
    "# qsize() give the maxsize\n",
    "# of the Queue\n",
    "print(q.qsize())\n",
    "\n",
    "# Adding of element to queue\n",
    "q.put('a')\n",
    "q.put('b')\n",
    "q.put('c')\n",
    "\n",
    "# Return Boolean for Full\n",
    "# Queue\n",
    "print(\"\\nFull: \", q.full())\n",
    "\n",
    "# Removing element from queue\n",
    "print(\"\\nElements dequeued from the queue\")\n",
    "print(q.get())\n",
    "print(q.get())\n",
    "print(q.get())\n",
    "\n",
    "# Return Boolean for Empty\n",
    "# Queue\n",
    "print(\"\\nEmpty: \", q.empty())\n",
    "\n",
    "q.put(1)\n",
    "print(\"\\nEmpty: \", q.empty())\n",
    "print(\"Full: \", q.full())\n",
    "\n",
    "# This would result into Infinite\n",
    "# Loop as the Queue is empty.\n",
    "# print(q.get())\n"
   ]
  }
 ],
 "metadata": {
  "kernelspec": {
   "display_name": "Python 3",
   "language": "python",
   "name": "python3"
  },
  "language_info": {
   "codemirror_mode": {
    "name": "ipython",
    "version": 3
   },
   "file_extension": ".py",
   "mimetype": "text/x-python",
   "name": "python",
   "nbconvert_exporter": "python",
   "pygments_lexer": "ipython3",
   "version": "3.8.5"
  }
 },
 "nbformat": 4,
 "nbformat_minor": 4
}

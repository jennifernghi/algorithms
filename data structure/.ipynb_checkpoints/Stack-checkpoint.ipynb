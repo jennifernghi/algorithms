{
 "cells": [
  {
   "cell_type": "code",
   "execution_count": 4,
   "metadata": {},
   "outputs": [
    {
     "name": "stdout",
     "output_type": "stream",
     "text": [
      "['a', 'b', 'c']\n",
      "c\n",
      "b\n",
      "a\n",
      "[]\n"
     ]
    }
   ],
   "source": [
    "myStack = []\n",
    "\n",
    "myStack.append('a')\n",
    "myStack.append('b')\n",
    "myStack.append('c')\n",
    "\n",
    "print(myStack)\n",
    "\n",
    "\n",
    "print(myStack.pop())\n",
    "\n",
    "print(myStack.pop())\n",
    "\n",
    "print(myStack.pop())\n",
    "\n",
    "\n",
    "print(myStack)"
   ]
  }
 ],
 "metadata": {
  "kernelspec": {
   "display_name": "Python 3",
   "language": "python",
   "name": "python3"
  },
  "language_info": {
   "codemirror_mode": {
    "name": "ipython",
    "version": 3
   },
   "file_extension": ".py",
   "mimetype": "text/x-python",
   "name": "python",
   "nbconvert_exporter": "python",
   "pygments_lexer": "ipython3",
   "version": "3.8.5"
  }
 },
 "nbformat": 4,
 "nbformat_minor": 4
}

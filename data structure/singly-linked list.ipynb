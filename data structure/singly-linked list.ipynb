{
 "cells": [
  {
   "cell_type": "code",
   "execution_count": 2,
   "metadata": {},
   "outputs": [
    {
     "name": "stdout",
     "output_type": "stream",
     "text": [
      "2\n",
      "[0, 1, 2]\n"
     ]
    }
   ],
   "source": [
    "# Definition for singly-linked list.\n",
    "class ListNode:\n",
    "    def __init__(self, val=0, next=None):\n",
    "        self.val = val\n",
    "        self.next = next\n",
    "        \n",
    "def create_linked_list(lst): \n",
    "    for i, v in enumerate(lst):\n",
    "        lst[i] = ListNode(v)\n",
    "        \n",
    "    for i in range(0, len(lst)-1):\n",
    "        lst[i].next = lst[i+1]\n",
    "        \n",
    "    return lst\n",
    "\n",
    "def singly_inked_list_to_list(listnode):\n",
    "    out = []\n",
    "    \n",
    "    for i in listnode:\n",
    "        out.append(i.val)\n",
    "    return out\n",
    "a = create_linked_list([0,1,2])\n",
    "print(a[2].val)\n",
    "print(singly_inked_list_to_list(a))"
   ]
  }
 ],
 "metadata": {
  "kernelspec": {
   "display_name": "Python 3",
   "language": "python",
   "name": "python3"
  },
  "language_info": {
   "codemirror_mode": {
    "name": "ipython",
    "version": 3
   },
   "file_extension": ".py",
   "mimetype": "text/x-python",
   "name": "python",
   "nbconvert_exporter": "python",
   "pygments_lexer": "ipython3",
   "version": "3.8.5"
  }
 },
 "nbformat": 4,
 "nbformat_minor": 4
}

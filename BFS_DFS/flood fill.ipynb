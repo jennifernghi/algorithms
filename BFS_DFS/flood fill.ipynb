{
 "cells": [
  {
   "cell_type": "markdown",
   "metadata": {},
   "source": [
    "an image is represented by an `m x n` integer grid `image` where `image[i][j]` represents the pixel value of the image.\n",
    "\n",
    "You are also given three integers `sr`, `sc`, and `newColor`. You should perform a **flood fill** on the image starting from the pixel `image[sr][sc]`.\n",
    "\n",
    "To perform a **flood fill**, consider the starting pixel, plus any pixels connected **4-directionally** to the starting pixel of the same color as the starting pixel, plus any pixels connected **4-directionally** to those pixels (also with the same color), and so on. Replace the color of all of the aforementioned pixels with `newColor`.\n",
    "\n",
    "Return *the modified image after performing the flood fill*.\n",
    "\n",
    "**Example 1:**\n",
    "\n",
    "![https://assets.leetcode.com/uploads/2021/06/01/flood1-grid.jpg](https://assets.leetcode.com/uploads/2021/06/01/flood1-grid.jpg)\n",
    "\n",
    "```\n",
    "Input: image = [[1,1,1],[1,1,0],[1,0,1]], sr = 1, sc = 1, newColor = 2\n",
    "Output: [[2,2,2],[2,2,0],[2,0,1]]\n",
    "Explanation: From the center of the image with position (sr, sc) = (1, 1) (i.e., the red pixel), all pixels connected by a path of the same color as the starting pixel (i.e., the blue pixels) are colored with the new color.\n",
    "Note the bottom corner is not colored 2, because it is not 4-directionally connected to the starting pixel.\n",
    "\n",
    "```\n",
    "\n",
    "**Example 2:**\n",
    "\n",
    "```\n",
    "Input: image = [[0,0,0],[0,0,0]], sr = 0, sc = 0, newColor = 2\n",
    "Output: [[2,2,2],[2,2,2]]\n",
    "\n",
    "```\n",
    "\n",
    "**Constraints:**\n",
    "\n",
    "- `m == image.length`\n",
    "- `n == image[i].length`\n",
    "- `1 <= m, n <= 50`\n",
    "- `0 <= image[i][j], newColor < 216`\n",
    "- `0 <= sr < m`\n",
    "- `0 <= sc < n`"
   ]
  },
  {
   "cell_type": "code",
   "execution_count": 4,
   "metadata": {},
   "outputs": [
    {
     "data": {
      "text/plain": [
       "[[2, 2, 2], [2, 2, 2]]"
      ]
     },
     "execution_count": 4,
     "metadata": {},
     "output_type": "execute_result"
    }
   ],
   "source": [
    "class Solution:\n",
    "    def floodFill(self, image, sr: int, sc: int, newColor: int) -> list:\n",
    "        oldcolor = image[sr][sc]\n",
    "        if newColor == oldcolor:\n",
    "            return image\n",
    "        else:\n",
    "            self.recursive_solver(image, sr, sc, oldcolor, newColor)\n",
    "            \n",
    "        return image\n",
    "            \n",
    "    def recursive_solver(self, image, sr, sc, oldcolor, newColor):\n",
    "        if image[sr][sc] != oldcolor:\n",
    "            return \n",
    "        \n",
    "        image[sr][sc] = newColor\n",
    "        \n",
    "        if sr!= 0:\n",
    "            self.recursive_solver(image, sr-1, sc, oldcolor, newColor)\n",
    "        if sc!= 0:\n",
    "            self.recursive_solver(image, sr, sc-1, oldcolor, newColor)\n",
    "        if sr!= len(image)-1:\n",
    "            self.recursive_solver(image, sr+1, sc, oldcolor, newColor)\n",
    "        if sc!= len(image[0])-1:\n",
    "            self.recursive_solver(image, sr, sc+1, oldcolor, newColor)\n",
    "            \n",
    "Solution().floodFill(image = [[0,0,0],[0,0,0]], sr = 0, sc = 0, newColor = 2)"
   ]
  }
 ],
 "metadata": {
  "kernelspec": {
   "display_name": "Python 3",
   "language": "python",
   "name": "python3"
  },
  "language_info": {
   "codemirror_mode": {
    "name": "ipython",
    "version": 3
   },
   "file_extension": ".py",
   "mimetype": "text/x-python",
   "name": "python",
   "nbconvert_exporter": "python",
   "pygments_lexer": "ipython3",
   "version": "3.8.5"
  }
 },
 "nbformat": 4,
 "nbformat_minor": 4
}

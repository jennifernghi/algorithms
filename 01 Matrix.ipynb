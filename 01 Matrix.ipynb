{
 "cells": [
  {
   "cell_type": "markdown",
   "metadata": {},
   "source": [
    "Given an `m x n` binary matrix `mat`, return *the distance of the nearest* `0` *for each cell*.\n",
    "\n",
    "The distance between two adjacent cells is `1`.\n",
    "\n",
    "**Example 1:**\n",
    "\n",
    "![https://assets.leetcode.com/uploads/2021/04/24/01-1-grid.jpg](https://assets.leetcode.com/uploads/2021/04/24/01-1-grid.jpg)\n",
    "\n",
    "```\n",
    "Input: mat = [[0,0,0],[0,1,0],[0,0,0]]\n",
    "Output: [[0,0,0],[0,1,0],[0,0,0]]\n",
    "\n",
    "```\n",
    "\n",
    "**Example 2:**\n",
    "\n",
    "![https://assets.leetcode.com/uploads/2021/04/24/01-2-grid.jpg](https://assets.leetcode.com/uploads/2021/04/24/01-2-grid.jpg)\n",
    "\n",
    "```\n",
    "Input: mat = [[0,0,0],[0,1,0],[1,1,1]]\n",
    "Output: [[0,0,0],[0,1,0],[1,2,1]]\n",
    "\n",
    "```\n",
    "\n",
    "**Constraints:**\n",
    "\n",
    "- `m == mat.length`\n",
    "- `n == mat[i].length`\n",
    "- `1 <= m, n <= 104`\n",
    "- `1 <= m * n <= 104`\n",
    "- `mat[i][j]` is either `0` or `1`.\n",
    "- There is at least one `0` in `mat`."
   ]
  },
  {
   "cell_type": "code",
   "execution_count": 14,
   "metadata": {},
   "outputs": [
    {
     "data": {
      "text/plain": [
       "[[0, 0, 0], [0, 1, 0], [0, 0, 0]]"
      ]
     },
     "execution_count": 14,
     "metadata": {},
     "output_type": "execute_result"
    }
   ],
   "source": [
    "from itertools import product\n",
    "import collections\n",
    "class Solution:\n",
    "    def updateMatrix(self, mat):\n",
    "        m, n = len(mat), len(mat[0])\n",
    "        \n",
    "        cells = collections.deque()\n",
    "        visited = set()\n",
    "        \n",
    "        for row, col in product(range(m), range(n)):\n",
    "            if mat[row][col] == 0:\n",
    "                visited.add((row, col))\n",
    "                cells.appendleft((row, col - 1, 0))\n",
    "                cells.appendleft((row, col + 1, 0))\n",
    "                cells.appendleft((row - 1, col, 0))\n",
    "                cells.appendleft((row + 1, col, 0))\n",
    "\n",
    "        while cells:\n",
    "            row, col, distance = cells.pop()\n",
    "            \n",
    "            if 0 <= row < m and 0 <= col < n and (row, col) not in visited:\n",
    "                mat[row][col] += distance\n",
    "                visited.add((row, col))\n",
    "                cells.appendleft((row, col - 1, distance + 1))\n",
    "                cells.appendleft((row, col + 1, distance + 1))\n",
    "                cells.appendleft((row - 1, col, distance + 1))\n",
    "                cells.appendleft((row + 1, col, distance + 1))\n",
    "                \n",
    "        return mat\n",
    "    \n",
    "Solution().updateMatrix(mat = [[0,0,0],[0,1,0],[0,0,0]])"
   ]
  }
 ],
 "metadata": {
  "kernelspec": {
   "display_name": "Python 3",
   "language": "python",
   "name": "python3"
  },
  "language_info": {
   "codemirror_mode": {
    "name": "ipython",
    "version": 3
   },
   "file_extension": ".py",
   "mimetype": "text/x-python",
   "name": "python",
   "nbconvert_exporter": "python",
   "pygments_lexer": "ipython3",
   "version": "3.8.5"
  }
 },
 "nbformat": 4,
 "nbformat_minor": 4
}

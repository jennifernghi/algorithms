{
 "cells": [
  {
   "cell_type": "markdown",
   "metadata": {},
   "source": [
    "Given an `m x n` binary matrix `mat`, return *the distance of the nearest* `0` *for each cell*.\n",
    "\n",
    "The distance between two adjacent cells is `1`.\n",
    "\n",
    "**Example 1:**\n",
    "\n",
    "![https://assets.leetcode.com/uploads/2021/04/24/01-1-grid.jpg](https://assets.leetcode.com/uploads/2021/04/24/01-1-grid.jpg)\n",
    "\n",
    "```\n",
    "Input: mat = [[0,0,0],[0,1,0],[0,0,0]]\n",
    "Output: [[0,0,0],[0,1,0],[0,0,0]]\n",
    "\n",
    "```\n",
    "\n",
    "**Example 2:**\n",
    "\n",
    "![https://assets.leetcode.com/uploads/2021/04/24/01-2-grid.jpg](https://assets.leetcode.com/uploads/2021/04/24/01-2-grid.jpg)\n",
    "\n",
    "```\n",
    "Input: mat = [[0,0,0],[0,1,0],[1,1,1]]\n",
    "Output: [[0,0,0],[0,1,0],[1,2,1]]\n",
    "\n",
    "```\n",
    "\n",
    "**Constraints:**\n",
    "\n",
    "- `m == mat.length`\n",
    "- `n == mat[i].length`\n",
    "- `1 <= m, n <= 104`\n",
    "- `1 <= m * n <= 104`\n",
    "- `mat[i][j]` is either `0` or `1`.\n",
    "- There is at least one `0` in `mat`."
   ]
  },
  {
   "cell_type": "code",
   "execution_count": null,
   "metadata": {},
   "outputs": [],
   "source": []
  }
 ],
 "metadata": {
  "kernelspec": {
   "display_name": "Python 3",
   "language": "python",
   "name": "python3"
  },
  "language_info": {
   "codemirror_mode": {
    "name": "ipython",
    "version": 3
   },
   "file_extension": ".py",
   "mimetype": "text/x-python",
   "name": "python",
   "nbconvert_exporter": "python",
   "pygments_lexer": "ipython3",
   "version": "3.8.5"
  }
 },
 "nbformat": 4,
 "nbformat_minor": 4
}

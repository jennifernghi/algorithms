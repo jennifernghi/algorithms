{
 "cells": [
  {
   "cell_type": "markdown",
   "metadata": {},
   "source": [
    "Given two integers `n` and `k`, return *all possible combinations of* `k` *numbers out of the range* `[1, n]`.\n",
    "\n",
    "You may return the answer in **any order**.\n",
    "\n",
    "**Example 1:**\n",
    "\n",
    "```\n",
    "Input: n = 4, k = 2\n",
    "Output:\n",
    "[\n",
    "  [2,4],\n",
    "  [3,4],\n",
    "  [2,3],\n",
    "  [1,2],\n",
    "  [1,3],\n",
    "  [1,4],\n",
    "]\n",
    "\n",
    "```\n",
    "\n",
    "**Example 2:**\n",
    "\n",
    "```\n",
    "Input: n = 1, k = 1\n",
    "Output: [[1]]\n",
    "\n",
    "```\n",
    "\n",
    "**Constraints:**\n",
    "\n",
    "- `1 <= n <= 20`\n",
    "- `1 <= k <= n`"
   ]
  },
  {
   "cell_type": "code",
   "execution_count": 7,
   "metadata": {},
   "outputs": [
    {
     "name": "stdout",
     "output_type": "stream",
     "text": [
      "[[1, 2], [1, 3], [1, 4], [2, 3], [2, 4], [3, 4]]\n"
     ]
    }
   ],
   "source": [
    "from itertools import product\n",
    "class Solution:\n",
    "    def combine(self, n: int, k: int) -> list:\n",
    "        return self.subcombine(1,n,k)\n",
    "        \n",
    "    def subcombine(self, start, n, k):\n",
    "        if k == 0:\n",
    "            # We reached the innermost recursion, stop condition\n",
    "            return [[]]\n",
    "        \n",
    "        result = []\n",
    "\n",
    "        # Combine each number i with the combinations of its larger numbers (numbers i+1 through n)\n",
    "        for i in range(start, n+1):\n",
    "            # We decrease k when performing recursion, to stop when we do it k times\n",
    "            subcombinations = self.subcombine(i+1, n, k-1)\n",
    "            for subcomb in subcombinations:\n",
    "                result.append([i] + subcomb)\n",
    "            \n",
    "        return result\n",
    "    \n",
    "print(Solution().combine(n = 4, k = 2))"
   ]
  }
 ],
 "metadata": {
  "kernelspec": {
   "display_name": "Python 3",
   "language": "python",
   "name": "python3"
  },
  "language_info": {
   "codemirror_mode": {
    "name": "ipython",
    "version": 3
   },
   "file_extension": ".py",
   "mimetype": "text/x-python",
   "name": "python",
   "nbconvert_exporter": "python",
   "pygments_lexer": "ipython3",
   "version": "3.8.5"
  }
 },
 "nbformat": 4,
 "nbformat_minor": 4
}

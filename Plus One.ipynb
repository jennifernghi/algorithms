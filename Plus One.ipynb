{
 "cells": [
  {
   "cell_type": "code",
   "execution_count": 12,
   "metadata": {},
   "outputs": [
    {
     "name": "stdout",
     "output_type": "stream",
     "text": [
      "['1', '2', '4']\n",
      "['4', '3', '2', '2']\n",
      "['1', '0']\n"
     ]
    }
   ],
   "source": [
    "class Solution:\n",
    "    def plusOne(self, digits):\n",
    "        s = int(''.join(map(str, digits))) +1\n",
    "        \n",
    "        return list(str(s))\n",
    "        \n",
    "        \n",
    "        \n",
    "    \n",
    "print(Solution().plusOne(digits = [1,2,3]))\n",
    "print(Solution().plusOne(digits = [4,3,2,1]))\n",
    "print(Solution().plusOne(digits = [9]))"
   ]
  }
 ],
 "metadata": {
  "kernelspec": {
   "display_name": "Python 3",
   "language": "python",
   "name": "python3"
  },
  "language_info": {
   "codemirror_mode": {
    "name": "ipython",
    "version": 3
   },
   "file_extension": ".py",
   "mimetype": "text/x-python",
   "name": "python",
   "nbconvert_exporter": "python",
   "pygments_lexer": "ipython3",
   "version": "3.8.5"
  }
 },
 "nbformat": 4,
 "nbformat_minor": 4
}

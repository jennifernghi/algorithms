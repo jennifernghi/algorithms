{
 "cells": [
  {
   "cell_type": "markdown",
   "metadata": {},
   "source": [
    "# immutability"
   ]
  },
  {
   "cell_type": "code",
   "execution_count": 1,
   "metadata": {},
   "outputs": [
    {
     "ename": "TypeError",
     "evalue": "'str' object does not support item assignment",
     "output_type": "error",
     "traceback": [
      "\u001b[1;31m---------------------------------------------------------------------------\u001b[0m",
      "\u001b[1;31mTypeError\u001b[0m                                 Traceback (most recent call last)",
      "\u001b[1;32m<ipython-input-1-5dee1a758591>\u001b[0m in \u001b[0;36m<module>\u001b[1;34m\u001b[0m\n\u001b[0;32m      1\u001b[0m \u001b[0ms\u001b[0m \u001b[1;33m=\u001b[0m \u001b[1;34m'mybacon'\u001b[0m\u001b[1;33m\u001b[0m\u001b[1;33m\u001b[0m\u001b[0m\n\u001b[1;32m----> 2\u001b[1;33m \u001b[0ms\u001b[0m\u001b[1;33m[\u001b[0m\u001b[1;36m2\u001b[0m\u001b[1;33m]\u001b[0m \u001b[1;33m=\u001b[0m \u001b[1;34m'f'\u001b[0m\u001b[1;33m\u001b[0m\u001b[1;33m\u001b[0m\u001b[0m\n\u001b[0m",
      "\u001b[1;31mTypeError\u001b[0m: 'str' object does not support item assignment"
     ]
    }
   ],
   "source": [
    "s = 'mybacon'\n",
    "s[2] = 'f'"
   ]
  },
  {
   "cell_type": "markdown",
   "metadata": {},
   "source": [
    "## modify"
   ]
  },
  {
   "cell_type": "code",
   "execution_count": 3,
   "metadata": {},
   "outputs": [
    {
     "data": {
      "text/plain": [
       "'myfacon'"
      ]
     },
     "execution_count": 3,
     "metadata": {},
     "output_type": "execute_result"
    }
   ],
   "source": [
    "s = 'mybacon'\n",
    "s = s.replace('b', 'f')\n",
    "s\n"
   ]
  },
  {
   "cell_type": "code",
   "execution_count": 4,
   "metadata": {},
   "outputs": [
    {
     "name": "stdout",
     "output_type": "stream",
     "text": [
      "Hello Jackson\n",
      "Hello, World\n",
      "Hello me, you and you!\n",
      "Hello me, me and you!\n",
      "Hello me, me and me!\n"
     ]
    }
   ],
   "source": [
    "our_str = 'Hello World'\n",
    " \n",
    "new_str = our_str.replace('World', 'Jackson')\n",
    "print(new_str)\n",
    " \n",
    "new_str = our_str.replace('Hello', 'Hello,')\n",
    "print(new_str)\n",
    " \n",
    "our_str = 'Hello you, you and you!'\n",
    "new_str = our_str.replace('you', 'me', 1)\n",
    "print(new_str)\n",
    "new_str = our_str.replace('you', 'me', 2)\n",
    "print(new_str)\n",
    "new_str = our_str.replace('you', 'me', 3)\n",
    "print(new_str)"
   ]
  },
  {
   "cell_type": "markdown",
   "metadata": {},
   "source": [
    "# How would you confirm that 2 strings have the same identity?"
   ]
  },
  {
   "cell_type": "code",
   "execution_count": 6,
   "metadata": {},
   "outputs": [
    {
     "name": "stdout",
     "output_type": "stream",
     "text": [
      "True\n",
      "True\n",
      "True\n",
      "False\n"
     ]
    }
   ],
   "source": [
    "animals           = ['python','gopher']\n",
    "more_animals      = animals\n",
    "print(animals == more_animals) #=> True\n",
    "print(animals is more_animals) #=> True\n",
    "even_more_animals = ['python','gopher']\n",
    "print(animals == even_more_animals) #=> True\n",
    "print(animals is even_more_animals) #=> False"
   ]
  },
  {
   "cell_type": "code",
   "execution_count": 11,
   "metadata": {},
   "outputs": [
    {
     "name": "stdout",
     "output_type": "stream",
     "text": [
      "False\n",
      "True\n",
      "--\n",
      "False\n",
      "True\n",
      "2670533522992\n",
      "2670533523312\n",
      "2670533523312\n"
     ]
    }
   ],
   "source": [
    "s1 = \"string1\"\n",
    "s2 = \"string2\"\n",
    "s3 = \"string2\"\n",
    "\n",
    "print(s1 == s2)\n",
    "print(s3 == s2)\n",
    "print('--')\n",
    "print(s1 is s2)\n",
    "print(s3 is s2) # work with string\n",
    "\n",
    "print(id(s1))\n",
    "print(id(s2)) # same string has same id here\n",
    "print(id(s3))"
   ]
  },
  {
   "cell_type": "markdown",
   "metadata": {},
   "source": [
    "# **How would you check if each word in a string begins with a capital letter?**\n",
    "\n",
    "The `istitle()` function checks if each word is capitalized.\n",
    "\n",
    "```\n",
    "\n",
    "```"
   ]
  },
  {
   "cell_type": "code",
   "execution_count": 12,
   "metadata": {},
   "outputs": [
    {
     "name": "stdout",
     "output_type": "stream",
     "text": [
      "True\n",
      "False\n",
      "False\n"
     ]
    }
   ],
   "source": [
    "print( 'The Hilton'.istitle() ) #=> True\n",
    "print( 'The dog'.istitle() ) #=> False\n",
    "print( 'sticky rice'.istitle() ) #=> False"
   ]
  }
 ],
 "metadata": {
  "kernelspec": {
   "display_name": "Python 3",
   "language": "python",
   "name": "python3"
  },
  "language_info": {
   "codemirror_mode": {
    "name": "ipython",
    "version": 3
   },
   "file_extension": ".py",
   "mimetype": "text/x-python",
   "name": "python",
   "nbconvert_exporter": "python",
   "pygments_lexer": "ipython3",
   "version": "3.8.5"
  }
 },
 "nbformat": 4,
 "nbformat_minor": 4
}

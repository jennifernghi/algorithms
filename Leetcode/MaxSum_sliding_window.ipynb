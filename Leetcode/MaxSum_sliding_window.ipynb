{
 "cells": [
  {
   "cell_type": "code",
   "execution_count": 1,
   "metadata": {},
   "outputs": [
    {
     "name": "stdout",
     "output_type": "stream",
     "text": [
      "24\n"
     ]
    }
   ],
   "source": [
    "# O(n) solution for finding\n",
    "# maximum sum of a subarray of size k\n",
    " \n",
    " \n",
    "def maxSum(arr, k):\n",
    "    # length of the array\n",
    "    n = len(arr)\n",
    " \n",
    "    # n must be greater than k\n",
    "    if n < k:\n",
    "        print(\"Invalid\")\n",
    "        return -1\n",
    " \n",
    "    # Compute sum of first window of size k\n",
    "    window_sum = sum(arr[:k])\n",
    " \n",
    "    # first sum available\n",
    "    max_sum = window_sum\n",
    " \n",
    "    # Compute the sums of remaining windows by\n",
    "    # removing first element of previous\n",
    "    # window and adding last element of\n",
    "    # the current window.\n",
    "    for i in range(n - k):\n",
    "        window_sum = window_sum - arr[i] + arr[i + k]\n",
    "        max_sum = max(window_sum, max_sum)\n",
    " \n",
    "    return max_sum\n",
    " \n",
    " \n",
    "# Driver code\n",
    "arr = [1, 4, 2, 10, 2, 3, 1, 0, 20]\n",
    "k = 4\n",
    "print(maxSum(arr, k))\n",
    " \n",
    "# This code is contributed by Kyle McClay"
   ]
  }
 ],
 "metadata": {
  "kernelspec": {
   "display_name": "Python 3",
   "language": "python",
   "name": "python3"
  },
  "language_info": {
   "codemirror_mode": {
    "name": "ipython",
    "version": 3
   },
   "file_extension": ".py",
   "mimetype": "text/x-python",
   "name": "python",
   "nbconvert_exporter": "python",
   "pygments_lexer": "ipython3",
   "version": "3.8.5"
  }
 },
 "nbformat": 4,
 "nbformat_minor": 4
}

{
 "cells": [
  {
   "cell_type": "markdown",
   "metadata": {},
   "source": [
    "Given two integers `n` and `k`, return *all possible combinations of* `k` *numbers out of the range* `[1, n]`.\n",
    "\n",
    "You may return the answer in **any order**.\n",
    "\n",
    "**Example 1:**\n",
    "\n",
    "```\n",
    "Input: n = 4, k = 2\n",
    "Output:\n",
    "[\n",
    "  [2,4],\n",
    "  [3,4],\n",
    "  [2,3],\n",
    "  [1,2],\n",
    "  [1,3],\n",
    "  [1,4],\n",
    "]\n",
    "\n",
    "```\n",
    "\n",
    "**Example 2:**\n",
    "\n",
    "```\n",
    "Input: n = 1, k = 1\n",
    "Output: [[1]]\n",
    "\n",
    "```\n",
    "\n",
    "**Constraints:**\n",
    "\n",
    "- `1 <= n <= 20`\n",
    "- `1 <= k <= n`"
   ]
  },
  {
   "cell_type": "code",
   "execution_count": 43,
   "metadata": {
    "scrolled": true
   },
   "outputs": [
    {
     "name": "stdout",
     "output_type": "stream",
     "text": [
      "[[1, 2], [1, 3], [1, 4], [2, 3], [2, 4], [3, 4]]\n",
      "[[1]]\n",
      "[[1, 2, 3], [1, 2, 4], [1, 2, 5], [1, 2, 6], [1, 3, 4], [1, 3, 5], [1, 3, 6], [1, 4, 5], [1, 4, 6], [1, 5, 6], [2, 3, 4], [2, 3, 5], [2, 3, 6], [2, 4, 5], [2, 4, 6], [2, 5, 6], [3, 4, 5], [3, 4, 6], [3, 5, 6], [4, 5, 6]]\n",
      "[[]]\n"
     ]
    }
   ],
   "source": [
    "from itertools import product\n",
    "class Solution:\n",
    "    def combine(self, n: int, k: int) -> list:\n",
    "        return self.subcombine(1,n,k)\n",
    "        \n",
    "    def subcombine(self, start, n, k):\n",
    "        output = []\n",
    "        if k == 0:\n",
    "            output.append([])\n",
    "\n",
    "        # Combine each number i with the combinations of its larger numbers (numbers i+1 through n)\n",
    "        for i in range(start, n+1): \n",
    "            # We decrease k when performing recursion, to stop when we do it k times\n",
    "            subcombinations = self.subcombine(i+1, n, k-1)\n",
    "            \n",
    "            for subcomb in subcombinations:\n",
    "                output.append([i] + subcomb)  \n",
    "            \n",
    "            \n",
    "        return output\n",
    "    \n",
    "print(Solution().combine(n = 4, k = 2))\n",
    "print(Solution().combine(n = 1, k = 1))\n",
    "print(Solution().combine(n = 6, k = 3))\n",
    "print(Solution().combine(n = 1, k = 0))\n"
   ]
  },
  {
   "cell_type": "code",
   "execution_count": 35,
   "metadata": {},
   "outputs": [
    {
     "data": {
      "text/plain": [
       "[[1, 1, 2, 3]]"
      ]
     },
     "execution_count": 35,
     "metadata": {},
     "output_type": "execute_result"
    }
   ],
   "source": [
    "a = []\n",
    "a.append([1]+[1, 2, 3])\n",
    "a"
   ]
  },
  {
   "cell_type": "code",
   "execution_count": 26,
   "metadata": {},
   "outputs": [
    {
     "name": "stdout",
     "output_type": "stream",
     "text": [
      "[[1, 2], [1, 3], [1, 4], [2, 3], [2, 4], [3, 4]]\n",
      "[[1]]\n",
      "[[1, 2, 3], [1, 2, 4], [1, 2, 5], [1, 2, 6], [1, 3, 4], [1, 3, 5], [1, 3, 6], [1, 4, 5], [1, 4, 6], [1, 5, 6], [2, 3, 4], [2, 3, 5], [2, 3, 6], [2, 4, 5], [2, 4, 6], [2, 5, 6], [3, 4, 5], [3, 4, 6], [3, 5, 6], [4, 5, 6]]\n"
     ]
    }
   ],
   "source": [
    "class Solution:\n",
    "    def combine(self, n: int, k: int) :\n",
    "        # you can also use these BEST CASES\n",
    "        # if k ==1:\n",
    "        #     return list([i] for i in range(1,n+1))\n",
    "        # if k == n:\n",
    "        #     return [list(range(1,n+1))]\n",
    "        \n",
    "        res = []\n",
    "        \n",
    "        def find(i,l,comb):\n",
    "            if l==k:\n",
    "                return True\n",
    "            \n",
    "            for j in range(i+1,n+1):\n",
    "                comb.append(j)\n",
    "                if find(j,l+1,comb):\n",
    "                    res.append(comb.copy())\n",
    "                comb.pop()\n",
    "            \n",
    "            return False\n",
    "            \n",
    "        find(0,0,[])\n",
    "        return res\n",
    "    \n",
    "print(Solution().combine(n = 4, k = 2))\n",
    "print(Solution().combine(n = 1, k = 1))\n",
    "print(Solution().combine(n = 6, k = 3))"
   ]
  }
 ],
 "metadata": {
  "kernelspec": {
   "display_name": "Python 3",
   "language": "python",
   "name": "python3"
  },
  "language_info": {
   "codemirror_mode": {
    "name": "ipython",
    "version": 3
   },
   "file_extension": ".py",
   "mimetype": "text/x-python",
   "name": "python",
   "nbconvert_exporter": "python",
   "pygments_lexer": "ipython3",
   "version": "3.8.5"
  }
 },
 "nbformat": 4,
 "nbformat_minor": 4
}

{
 "cells": [
  {
   "cell_type": "markdown",
   "metadata": {},
   "source": [
    "Given two stings `ransomNote` and `magazine`, return `true` if `ransomNote` can be constructed from `magazine` and `false` otherwise.\n",
    "\n",
    "Each letter in `magazine` can only be used once in `ransomNote`.\n",
    "\n",
    "**Example 1:**\n",
    "\n",
    "```\n",
    "Input: ransomNote = \"a\", magazine = \"b\"\n",
    "Output: false\n",
    "\n",
    "```\n",
    "\n",
    "**Example 2:**\n",
    "\n",
    "```\n",
    "Input: ransomNote = \"aa\", magazine = \"ab\"\n",
    "Output: false\n",
    "\n",
    "```\n",
    "\n",
    "**Example 3:**\n",
    "\n",
    "```\n",
    "Input: ransomNote = \"aa\", magazine = \"aab\"\n",
    "Output: true\n",
    "\n",
    "```\n",
    "\n",
    "**Constraints:**\n",
    "\n",
    "- `1 <= ransomNote.length, magazine.length <= 105`\n",
    "- `ransomNote` and `magazine` consist of lowercase English letters."
   ]
  },
  {
   "cell_type": "code",
   "execution_count": 5,
   "metadata": {},
   "outputs": [
    {
     "name": "stdout",
     "output_type": "stream",
     "text": [
      "False\n",
      "False\n",
      "True\n"
     ]
    }
   ],
   "source": [
    "class Solution:\n",
    "    def canConstruct(self, ransomNote: str, magazine: str) -> bool:\n",
    "        # instanciate a frequency count dictionary for the characters\n",
    "\t\t# in ransomNote\n",
    "        note_map = {char:0 for char in set(ransomNote)}\n",
    "        \n",
    "\t\t# increment for each character in ransom note (one pass)\n",
    "\t\t# the count will be the number of \"characters needed\" per character\n",
    "        for char in ransomNote:\n",
    "            note_map[char] += 1\n",
    "        \n",
    "\t\t# decrement for each character in magazine \n",
    "        for char in magazine:\n",
    "            if char in note_map:\n",
    "                note_map[char] -= 1\n",
    "        \n",
    "\t\t# check for values in note_map higher than 0\n",
    "\t\t# this means magazine does not contain all the\n",
    "\t\t# characters necessary\n",
    "        for char, count in note_map.items():\n",
    "            if count > 0:\n",
    "                return False\n",
    "        \n",
    "        return True\n",
    "    \n",
    "print(Solution().canConstruct(ransomNote = \"a\", magazine = \"b\"))\n",
    "print(Solution().canConstruct(ransomNote = \"aa\", magazine = \"ab\"))\n",
    "print(Solution().canConstruct(ransomNote = \"aa\", magazine = \"aab\"))\n"
   ]
  },
  {
   "cell_type": "code",
   "execution_count": 6,
   "metadata": {},
   "outputs": [
    {
     "name": "stdout",
     "output_type": "stream",
     "text": [
      "False\n",
      "False\n",
      "True\n"
     ]
    }
   ],
   "source": [
    "class Solution:\n",
    "    def canConstruct(self, ransomNote: str, magazine: str) -> bool:\n",
    "        # create a set for the characters in each string\n",
    "        note_set = set(ransomNote)\n",
    "        mag_set = set(magazine)\n",
    "        \n",
    "\t\t# check if the set of characters in ransomNote is\n",
    "\t\t# a subset of magazine\n",
    "        if not note_set.issubset(mag_set):\n",
    "            return False\n",
    "        \n",
    "\t\t# for each character in the magazine set, store its frequency count\n",
    "        magazine_map = {char:magazine.count(char) for char in mag_set}\n",
    "        \n",
    "\t\t# for character in the note set, check if the count is higher than \n",
    "\t\t# in the magazine_map (which means letters would be missing)\n",
    "        for char in note_set:\n",
    "            if ransomNote.count(char) > magazine_map[char]:\n",
    "                return False\n",
    "        return True\n",
    "    \n",
    "print(Solution().canConstruct(ransomNote = \"a\", magazine = \"b\"))\n",
    "print(Solution().canConstruct(ransomNote = \"aa\", magazine = \"ab\"))\n",
    "print(Solution().canConstruct(ransomNote = \"aa\", magazine = \"aab\"))\n"
   ]
  }
 ],
 "metadata": {
  "kernelspec": {
   "display_name": "Python 3",
   "language": "python",
   "name": "python3"
  },
  "language_info": {
   "codemirror_mode": {
    "name": "ipython",
    "version": 3
   },
   "file_extension": ".py",
   "mimetype": "text/x-python",
   "name": "python",
   "nbconvert_exporter": "python",
   "pygments_lexer": "ipython3",
   "version": "3.8.5"
  }
 },
 "nbformat": 4,
 "nbformat_minor": 4
}

{
 "cells": [
  {
   "cell_type": "markdown",
   "metadata": {},
   "source": [
    "You are given an `m x n` binary matrix `grid`. An island is a group of `1`'s (representing land) connected **4-directionally** (horizontal or vertical.) You may assume all four edges of the grid are surrounded by water.\n",
    "\n",
    "The **area** of an island is the number of cells with a value `1` in the island.\n",
    "\n",
    "Return *the maximum **area** of an island in* `grid`. If there is no island, return `0`.\n",
    "\n",
    "**Example 1:**\n",
    "\n",
    "![https://assets.leetcode.com/uploads/2021/05/01/maxarea1-grid.jpg](https://assets.leetcode.com/uploads/2021/05/01/maxarea1-grid.jpg)\n",
    "\n",
    "```\n",
    "Input: grid = [[0,0,1,0,0,0,0,1,0,0,0,0,0],[0,0,0,0,0,0,0,1,1,1,0,0,0],[0,1,1,0,1,0,0,0,0,0,0,0,0],[0,1,0,0,1,1,0,0,1,0,1,0,0],[0,1,0,0,1,1,0,0,1,1,1,0,0],[0,0,0,0,0,0,0,0,0,0,1,0,0],[0,0,0,0,0,0,0,1,1,1,0,0,0],[0,0,0,0,0,0,0,1,1,0,0,0,0]]\n",
    "Output: 6\n",
    "Explanation: The answer is not 11, because the island must be connected 4-directionally.\n",
    "\n",
    "```\n",
    "\n",
    "**Example 2:**\n",
    "\n",
    "```\n",
    "Input: grid = [[0,0,0,0,0,0,0,0]]\n",
    "Output: 0\n",
    "\n",
    "```\n",
    "\n",
    "**Constraints:**\n",
    "\n",
    "- `m == grid.length`\n",
    "- `n == grid[i].length`\n",
    "- `1 <= m, n <= 50`\n",
    "- `grid[i][j]` is either `0` or `1`."
   ]
  },
  {
   "cell_type": "code",
   "execution_count": 31,
   "metadata": {},
   "outputs": [
    {
     "name": "stdout",
     "output_type": "stream",
     "text": [
      "row m 2\n",
      "col n 3\n"
     ]
    }
   ],
   "source": [
    "grid = [[0,0,0],[1,0,1]]\n",
    "\n",
    "print(f\"row m {len(grid)}\")\n",
    "print(f\"col n {len(grid[0])}\" )"
   ]
  },
  {
   "cell_type": "code",
   "execution_count": 47,
   "metadata": {},
   "outputs": [
    {
     "name": "stdout",
     "output_type": "stream",
     "text": [
      "0\n",
      "6\n"
     ]
    }
   ],
   "source": [
    "from itertools import product\n",
    "class Solution:\n",
    "    def maxAreaOfIsland(self, grid) -> int:\n",
    "        max_area = 0\n",
    "        m = len(grid)\n",
    "        n = len(grid[0])\n",
    "        \n",
    "        def recursive_solver(row: int, col: int) -> int:\n",
    "            if row < 0 or col < 0 or row >= m or col >= n or grid[row][col] == 0: \n",
    "                return 0\n",
    "            grid[row][col] = 0\n",
    "            return 1 + recursive_solver(row-1, col) + recursive_solver(row, col-1) + recursive_solver(row+1, col) + recursive_solver(row, col+1)\n",
    "        \n",
    "        for row, col in product(range(m), range(n)):\n",
    "            if grid[row][col]: \n",
    "                max_area = max(max_area, recursive_solver(row, col))\n",
    "        return max_area\n",
    "    \n",
    "print(Solution().maxAreaOfIsland(grid = [[0,0,0,0,0,0,0,0]]))\n",
    "print(Solution().maxAreaOfIsland(grid = [[0,0,1,0,0,0,0,1,0,0,0,0,0],[0,0,0,0,0,0,0,1,1,1,0,0,0],[0,1,1,0,1,0,0,0,0,0,0,0,0],[0,1,0,0,1,1,0,0,1,0,1,0,0],[0,1,0,0,1,1,0,0,1,1,1,0,0],[0,0,0,0,0,0,0,0,0,0,1,0,0],[0,0,0,0,0,0,0,1,1,1,0,0,0],[0,0,0,0,0,0,0,1,1,0,0,0,0]]))"
   ]
  },
  {
   "cell_type": "code",
   "execution_count": 4,
   "metadata": {},
   "outputs": [
    {
     "name": "stdout",
     "output_type": "stream",
     "text": [
      "(0,0)\n",
      "(0,1)\n",
      "(0,2)\n",
      "(1,0)\n",
      "(1,1)\n",
      "(1,2)\n"
     ]
    }
   ],
   "source": [
    "for i, j in product(range(2), range(3)):\n",
    "    print(f\"({i},{j})\")"
   ]
  }
 ],
 "metadata": {
  "kernelspec": {
   "display_name": "Python 3",
   "language": "python",
   "name": "python3"
  },
  "language_info": {
   "codemirror_mode": {
    "name": "ipython",
    "version": 3
   },
   "file_extension": ".py",
   "mimetype": "text/x-python",
   "name": "python",
   "nbconvert_exporter": "python",
   "pygments_lexer": "ipython3",
   "version": "3.8.5"
  }
 },
 "nbformat": 4,
 "nbformat_minor": 4
}

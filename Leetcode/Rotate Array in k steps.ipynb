{
 "cells": [
  {
   "cell_type": "markdown",
   "metadata": {},
   "source": [
    "Given an array, rotate the array to the right by k steps, where k is non-negative.\n",
    "\n",
    "Example 1:\n",
    "\n",
    "Input: nums = [1,2,3,4,5,6,7], k = 3 \\\n",
    "Output: [5,6,7,1,2,3,4] \\\n",
    "Explanation: \\\n",
    "rotate 1 steps to the right: [7,1,2,3,4,5,6] \\\n",
    "rotate 2 steps to the right: [6,7,1,2,3,4,5] \\\n",
    "rotate 3 steps to the right: [5,6,7,1,2,3,4] \\\n",
    "\n",
    "Example 2:\n",
    "\n",
    "Input: nums = [-1,-100,3,99], k = 2 \\\n",
    "Output: [3,99,-1,-100] \\\n",
    "Explanation: \\\n",
    "rotate 1 steps to the right: [99,-1,-100,3] \\\n",
    "rotate 2 steps to the right: [3,99,-1,-100]\n",
    "\n",
    "**Follow up:**\n",
    "\n",
    "- Try to come up with as many solutions as you can. There are at least **three** different ways to solve this problem.\n",
    "- Could you do it in-place with `O(1)` extra space?"
   ]
  },
  {
   "cell_type": "code",
   "execution_count": 32,
   "metadata": {},
   "outputs": [
    {
     "name": "stdout",
     "output_type": "stream",
     "text": [
      "[5, 6, 7, 1, 2, 3, 4]\n"
     ]
    }
   ],
   "source": [
    "class Solution:\n",
    "    def rotate(self, nums: list, k: int) -> None:\n",
    "        \"\"\"\n",
    "        Do not return anything, modify nums in-place instead.\n",
    "        Time complexity : O(n * d) \n",
    "        Auxiliary Space : O(1)\n",
    "        \"\"\"\n",
    "         \n",
    "        for _k in range(k):\n",
    "            temp = nums[len(nums)-1] \n",
    "            for i in reversed(range(len(nums))): \n",
    "                nums[i] =nums[i - 1]\n",
    "            nums[0] = temp  \n",
    "        print(nums)\n",
    "                \n",
    "Solution().rotate( [1,2,3,4,5,6,7], 3)"
   ]
  },
  {
   "cell_type": "code",
   "execution_count": 54,
   "metadata": {},
   "outputs": [
    {
     "name": "stdout",
     "output_type": "stream",
     "text": [
      "[5, 6, 7, 1, 2, 3, 4]\n",
      "[5, 6, 7, 1, 2, 3, 4]\n"
     ]
    }
   ],
   "source": [
    "class Solution:\n",
    "    def rotate(self, n: list, k: int) -> None:\n",
    "        k = len(n) - k%len(n)\n",
    "        self.rep(n,0,k,len(n))\n",
    "            \n",
    "    def rep(self,n,s,k,l):\n",
    "        for i in range(k+s,len(n)): \n",
    "            n[i-k] += n[i]\n",
    "            n[i] = n[i-k]-n[i]\n",
    "            n[i-k] = n[i-k]-n[i]\n",
    "        if l%k != 0:\n",
    "            self.rep(n,len(n)-k,k-l%k,k)\n",
    "            \n",
    "        print(n)\n",
    "                \n",
    "Solution().rotate( [1,2,3,4,5,6,7], 3)"
   ]
  },
  {
   "cell_type": "code",
   "execution_count": 50,
   "metadata": {},
   "outputs": [
    {
     "name": "stdout",
     "output_type": "stream",
     "text": [
      "1\n",
      "[4, 5, 6, 7, 1, 2, 3]\n",
      "[4, 5, 6, 7, 1, 2, 3]\n"
     ]
    }
   ],
   "source": [
    "class Solution:\n",
    "    def rotate(self, nums: List[int], k: int) -> None:\n",
    "        \"\"\"\n",
    "        Do not return anything, modify nums in-place instead.\n",
    "        Time complexity : O(n) \n",
    "        Auxiliary Space : O(1)\n",
    "        \"\"\"\n",
    "        k = len(nums) - k%len(nums)\n",
    "        self.rep(nums,0,k,len(nums))\n",
    "            \n",
    "    def rep(self,nums,s,k,l):\n",
    "        for i in range(k+s,len(nums)): \n",
    "            nums[i-k] += nums[i]\n",
    "            nums[i] = nums[i-k]-nums[i]\n",
    "            nums[i-k] = nums[i-k]-nums[i]\n",
    "        if l%k != 0:\n",
    "            self.rep(nums,len(nums)-k,k-l%k,k)"
   ]
  }
 ],
 "metadata": {
  "kernelspec": {
   "display_name": "Python 3",
   "language": "python",
   "name": "python3"
  },
  "language_info": {
   "codemirror_mode": {
    "name": "ipython",
    "version": 3
   },
   "file_extension": ".py",
   "mimetype": "text/x-python",
   "name": "python",
   "nbconvert_exporter": "python",
   "pygments_lexer": "ipython3",
   "version": "3.8.5"
  }
 },
 "nbformat": 4,
 "nbformat_minor": 4
}

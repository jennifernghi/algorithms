{
 "cells": [
  {
   "cell_type": "markdown",
   "metadata": {},
   "source": [
    "Given the `head` of a singly linked list, reverse the list, and return *the reversed list*.\n",
    "\n",
    "**Example 1:**\n",
    "\n",
    "![https://assets.leetcode.com/uploads/2021/02/19/rev1ex1.jpg](https://assets.leetcode.com/uploads/2021/02/19/rev1ex1.jpg)\n",
    "\n",
    "```\n",
    "Input: head = [1,2,3,4,5]\n",
    "Output: [5,4,3,2,1]\n",
    "\n",
    "```\n",
    "\n",
    "**Example 2:**\n",
    "\n",
    "![https://assets.leetcode.com/uploads/2021/02/19/rev1ex2.jpg](https://assets.leetcode.com/uploads/2021/02/19/rev1ex2.jpg)\n",
    "\n",
    "```\n",
    "Input: head = [1,2]\n",
    "Output: [2,1]\n",
    "\n",
    "```\n",
    "\n",
    "**Example 3:**\n",
    "\n",
    "```\n",
    "Input: head = []\n",
    "Output: []\n",
    "\n",
    "```\n",
    "\n",
    "**Constraints:**\n",
    "\n",
    "- The number of nodes in the list is the range `[0, 5000]`.\n",
    "- `5000 <= Node.val <= 5000`\n",
    "\n",
    "**Follow up:** A linked list can be reversed either iteratively or recursively. Could you implement both?"
   ]
  },
  {
   "cell_type": "code",
   "execution_count": 2,
   "metadata": {},
   "outputs": [],
   "source": [
    "# Definition for singly-linked list.\n",
    "# class ListNode:\n",
    "#     def __init__(self, val=0, next=None):\n",
    "#         self.val = val\n",
    "#         self.next = next\n",
    "class Solution:\n",
    "    def reverseList(self, head ) :\n",
    "        return self.reverseRec(None, head)\n",
    "    \n",
    "    def reverseRec(self, prev, curr):\n",
    "        if curr is None:\n",
    "            return prev\n",
    "        \n",
    "        next_node, curr.next, prev = curr.next, prev, curr\n",
    "        \n",
    "        return self.reverseRec(curr, next_node)"
   ]
  }
 ],
 "metadata": {
  "kernelspec": {
   "display_name": "Python 3",
   "language": "python",
   "name": "python3"
  },
  "language_info": {
   "codemirror_mode": {
    "name": "ipython",
    "version": 3
   },
   "file_extension": ".py",
   "mimetype": "text/x-python",
   "name": "python",
   "nbconvert_exporter": "python",
   "pygments_lexer": "ipython3",
   "version": "3.8.5"
  }
 },
 "nbformat": 4,
 "nbformat_minor": 4
}

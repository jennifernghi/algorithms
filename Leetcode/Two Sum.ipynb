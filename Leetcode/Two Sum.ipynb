{
 "cells": [
  {
   "cell_type": "markdown",
   "metadata": {},
   "source": [
    "Given an array of integers `nums` and an integer `target`, return *indices of the two numbers such that they add up to `target`*.\n",
    "\n",
    "You may assume that each input would have ***exactly* one solution**, and you may not use the *same* element twice.\n",
    "\n",
    "You can return the answer in any order.\n",
    "\n",
    "**Example 1:**\n",
    "\n",
    "```\n",
    "Input: nums = [2,7,11,15], target = 9\n",
    "Output: [0,1]\n",
    "Output: Because nums[0] + nums[1] == 9, we return [0, 1].\n",
    "\n",
    "```\n",
    "\n",
    "**Example 2:**\n",
    "\n",
    "```\n",
    "Input: nums = [3,2,4], target = 6\n",
    "Output: [1,2]\n",
    "\n",
    "```\n",
    "\n",
    "**Example 3:**\n",
    "\n",
    "```\n",
    "Input: nums = [3,3], target = 6\n",
    "Output: [0,1]\n",
    "\n",
    "```\n",
    "\n",
    "**Constraints:**\n",
    "\n",
    "- `2 <= nums.length <= 104`\n",
    "- `109 <= nums[i] <= 109`\n",
    "- `109 <= target <= 109`\n",
    "- **Only one valid answer exists.**\n",
    "\n",
    "**Follow-up:**\n",
    "\n",
    "Can you come up with an algorithm that is less than\n",
    "\n",
    "```\n",
    "O(n2)\n",
    "```\n",
    "\n",
    "time complexity?"
   ]
  },
  {
   "cell_type": "code",
   "execution_count": 11,
   "metadata": {},
   "outputs": [
    {
     "name": "stdout",
     "output_type": "stream",
     "text": [
      "[0, 1]\n",
      "[1, 2]\n",
      "[0, 1]\n"
     ]
    }
   ],
   "source": [
    "class Solution:\n",
    "    def twoSum(self, nums, target: int):\n",
    "        for i in range(len(nums)):\n",
    "            left_val = target - nums[i]\n",
    "            for j in range(len(nums)):\n",
    "                if nums[j] == left_val and i!=j:\n",
    "                    return [i,j]\n",
    "                \n",
    "print(Solution().twoSum(nums = [3,3], target = 6))\n",
    "print(Solution().twoSum(nums = [3,2,4], target = 6))\n",
    "print(Solution().twoSum(nums = [2,7,11,15], target = 9))"
   ]
  },
  {
   "cell_type": "code",
   "execution_count": 9,
   "metadata": {},
   "outputs": [
    {
     "name": "stdout",
     "output_type": "stream",
     "text": [
      "[0, 1]\n",
      "[1, 2]\n",
      "[0, 1]\n"
     ]
    }
   ],
   "source": [
    "\n",
    "from itertools import product\n",
    "class Solution:\n",
    "    def twoSum(self, nums, target: int):\n",
    "        for i, j in product(range(len(nums)), range(len(nums)) ):\n",
    "            if i!=j and nums[i] + nums[j] == target:\n",
    "                return [i,j] \n",
    "                \n",
    "print(Solution().twoSum(nums = [3,3], target = 6))\n",
    "print(Solution().twoSum(nums = [3,2,4], target = 6))\n",
    "print(Solution().twoSum(nums = [2,7,11,15], target = 9))"
   ]
  }
 ],
 "metadata": {
  "kernelspec": {
   "display_name": "Python 3",
   "language": "python",
   "name": "python3"
  },
  "language_info": {
   "codemirror_mode": {
    "name": "ipython",
    "version": 3
   },
   "file_extension": ".py",
   "mimetype": "text/x-python",
   "name": "python",
   "nbconvert_exporter": "python",
   "pygments_lexer": "ipython3",
   "version": "3.8.5"
  }
 },
 "nbformat": 4,
 "nbformat_minor": 4
}

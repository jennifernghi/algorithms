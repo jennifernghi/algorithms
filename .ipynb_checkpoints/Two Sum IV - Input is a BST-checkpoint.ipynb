{
 "cells": [
  {
   "cell_type": "markdown",
   "metadata": {},
   "source": [
    "Given the `root` of a Binary Search Tree and a target number `k`, return *`true` if there exist two elements in the BST such that their sum is equal to the given target*.\n",
    "\n",
    "**Example 1:**\n",
    "\n",
    "![https://assets.leetcode.com/uploads/2020/09/21/sum_tree_1.jpg](https://assets.leetcode.com/uploads/2020/09/21/sum_tree_1.jpg)\n",
    "\n",
    "```\n",
    "Input: root = [5,3,6,2,4,null,7], k = 9\n",
    "Output: true\n",
    "\n",
    "```\n",
    "\n",
    "**Example 2:**\n",
    "\n",
    "![https://assets.leetcode.com/uploads/2020/09/21/sum_tree_2.jpg](https://assets.leetcode.com/uploads/2020/09/21/sum_tree_2.jpg)\n",
    "\n",
    "```\n",
    "Input: root = [5,3,6,2,4,null,7], k = 28\n",
    "Output: false\n",
    "\n",
    "```\n",
    "\n",
    "**Constraints:**\n",
    "\n",
    "- The number of nodes in the tree is in the range `[1, 104]`.\n",
    "- `104 <= Node.val <= 104`\n",
    "- `root` is guaranteed to be a **valid** binary search tree.\n",
    "- `105 <= k <= 105`"
   ]
  },
  {
   "cell_type": "code",
   "execution_count": null,
   "metadata": {},
   "outputs": [],
   "source": [
    "# Definition for a binary tree node.\n",
    "# class TreeNode:\n",
    "#     def __init__(self, val=0, left=None, right=None):\n",
    "#         self.val = val\n",
    "#         self.left = left\n",
    "#         self.right = right\n",
    "class Solution:\n",
    "    def findTarget(self, root: Optional[TreeNode], k: int) -> bool:\n",
    "        def inorderTrav(root):\n",
    "            if not root:\n",
    "                return []\n",
    "            elif not root.left and not root.right:\n",
    "                return [root.val]\n",
    "            else:\n",
    "                return inorderTrav(root.left) + [root.val] + inorderTrav(root.right)\n",
    "        arr = inorderTrav(root)\n",
    "        l = 0\n",
    "        r = len(arr)-1\n",
    "        while l < r:\n",
    "            if arr[l]+arr[r] == k:\n",
    "                return True\n",
    "            elif arr[l]+arr[r] < k:\n",
    "                l += 1\n",
    "            else:\n",
    "                r -= 1\n",
    "        return False"
   ]
  }
 ],
 "metadata": {
  "kernelspec": {
   "display_name": "Python 3",
   "language": "python",
   "name": "python3"
  },
  "language_info": {
   "codemirror_mode": {
    "name": "ipython",
    "version": 3
   },
   "file_extension": ".py",
   "mimetype": "text/x-python",
   "name": "python",
   "nbconvert_exporter": "python",
   "pygments_lexer": "ipython3",
   "version": "3.8.5"
  }
 },
 "nbformat": 4,
 "nbformat_minor": 4
}

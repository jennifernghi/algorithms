{
 "cells": [
  {
   "cell_type": "markdown",
   "metadata": {},
   "source": [
    "You are given a **perfect binary tree** where all leaves are on the same level, and every parent has two children. The binary tree has the following definition:\n",
    "\n",
    "```\n",
    "struct Node {\n",
    "  int val;\n",
    "  Node *left;\n",
    "  Node *right;\n",
    "  Node *next;\n",
    "}\n",
    "\n",
    "```\n",
    "\n",
    "Populate each next pointer to point to its next right node. If there is no next right node, the next pointer should be set to `NULL`.\n",
    "\n",
    "Initially, all next pointers are set to `NULL`.\n",
    "\n",
    "**Example 1:**\n",
    "\n",
    "![https://assets.leetcode.com/uploads/2019/02/14/116_sample.png](https://assets.leetcode.com/uploads/2019/02/14/116_sample.png)\n",
    "\n",
    "```\n",
    "Input: root = [1,2,3,4,5,6,7]\n",
    "Output: [1,#,2,3,#,4,5,6,7,#]\n",
    "Explanation:Given the above perfect binary tree (Figure A), your function should populate each next pointer to point to its next right node, just like in Figure B. The serialized output is in level order as connected by the next pointers, with '#' signifying the end of each level.\n",
    "\n",
    "```\n",
    "\n",
    "**Example 2:**\n",
    "\n",
    "```\n",
    "Input: root = []\n",
    "Output: []\n",
    "\n",
    "```\n",
    "\n",
    "**Constraints:**\n",
    "\n",
    "- The number of nodes in the tree is in the range `[0, 212 - 1]`.\n",
    "- `1000 <= Node.val <= 1000`\n",
    "\n",
    "**Follow-up:**\n",
    "\n",
    "- You may only use constant extra space.\n",
    "- The recursive approach is fine. You may assume implicit stack space does not count as extra space for this problem."
   ]
  },
  {
   "cell_type": "code",
   "execution_count": 3,
   "metadata": {},
   "outputs": [],
   "source": [
    "\"\"\"\n",
    "# Definition for a Node.\n",
    "class Node:\n",
    "    def __init__(self, val: int = 0, left: 'Node' = None, right: 'Node' = None, next: 'Node' = None):\n",
    "        self.val = val\n",
    "        self.left = left\n",
    "        self.right = right\n",
    "        self.next = next\n",
    "\"\"\"\n",
    "\n",
    "class Solution:\n",
    "    def connect(self, root):\n",
    "        \"\"\"\n",
    "\t\tHelper function: next_nodes\n",
    "\t\t\n",
    "\t\tThis function takes the list of all nodes in the current level (depth),\n",
    "\t\tand returns the list of all nodes in the next level in order (left->right).\n",
    "        \"\"\"\n",
    "        def next_lv_nodes(current_root):\n",
    "            next_nodes = []\n",
    "            for node in current_root:\n",
    "                next_nodes.append(node.left)\n",
    "                next_nodes.append(node.right)\n",
    "            return next_nodes\n",
    "        \n",
    "        current_lv_nodes = [root]  \n",
    "        while current_lv_nodes[0] and current_lv_nodes[0].left:\n",
    "            current_lv_nodes = next_lv_nodes(current_lv_nodes) \n",
    "            for i in range(len(current_lv_nodes)-1):\n",
    "                current_lv_nodes[i].next = current_lv_nodes[i+1]\n",
    "\n",
    "        return root"
   ]
  },
  {
   "cell_type": "markdown",
   "metadata": {},
   "source": [
    "2. Main idea\n",
    "The trick is to use a helper function to collect all nodes in the same level in the order left to right.\n",
    "So that we don't bother going back and forth to grab the correct next node, it is just the next list element.\n",
    "\n",
    "\n",
    "3. Performance\n",
    "Runtime: 52 ms (beats 77.19%)\n",
    "(Might be slightly diifferent for different submission.)"
   ]
  }
 ],
 "metadata": {
  "kernelspec": {
   "display_name": "Python 3",
   "language": "python",
   "name": "python3"
  },
  "language_info": {
   "codemirror_mode": {
    "name": "ipython",
    "version": 3
   },
   "file_extension": ".py",
   "mimetype": "text/x-python",
   "name": "python",
   "nbconvert_exporter": "python",
   "pygments_lexer": "ipython3",
   "version": "3.8.5"
  }
 },
 "nbformat": 4,
 "nbformat_minor": 4
}

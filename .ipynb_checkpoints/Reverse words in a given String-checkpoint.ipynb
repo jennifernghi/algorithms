{
 "cells": [
  {
   "cell_type": "code",
   "execution_count": 22,
   "metadata": {},
   "outputs": [
    {
     "data": {
      "text/plain": [
       "'code practice quiz geeks'"
      ]
     },
     "execution_count": 22,
     "metadata": {},
     "output_type": "execute_result"
    }
   ],
   "source": [
    "def reverse(a):\n",
    "    if len(a) == 1:\n",
    "        return a[0]\n",
    "    elif len(a) == 0:\n",
    "        return a\n",
    "    else:\n",
    "        return reverse(a[1:])+ ' ' + a[0]\n",
    "    \n",
    "str = 'geeks quiz practice code'\n",
    "reverse(str.split())"
   ]
  }
 ],
 "metadata": {
  "kernelspec": {
   "display_name": "Python 3",
   "language": "python",
   "name": "python3"
  },
  "language_info": {
   "codemirror_mode": {
    "name": "ipython",
    "version": 3
   },
   "file_extension": ".py",
   "mimetype": "text/x-python",
   "name": "python",
   "nbconvert_exporter": "python",
   "pygments_lexer": "ipython3",
   "version": "3.8.5"
  }
 },
 "nbformat": 4,
 "nbformat_minor": 4
}

{
 "cells": [
  {
   "cell_type": "markdown",
   "metadata": {},
   "source": [
    "You are given the heads of two sorted linked lists `list1` and `list2`.\n",
    "\n",
    "Merge the two lists in a one **sorted** list. The list should be made by splicing together the nodes of the first two lists.\n",
    "\n",
    "Return *the head of the merged linked list*.\n",
    "\n",
    "**Example 1:**\n",
    "\n",
    "![https://assets.leetcode.com/uploads/2020/10/03/merge_ex1.jpg](https://assets.leetcode.com/uploads/2020/10/03/merge_ex1.jpg)\n",
    "\n",
    "```\n",
    "Input: list1 = [1,2,4], list2 = [1,3,4]\n",
    "Output: [1,1,2,3,4,4]\n",
    "\n",
    "```\n",
    "\n",
    "**Example 2:**\n",
    "\n",
    "```\n",
    "Input: list1 = [], list2 = []\n",
    "Output: []\n",
    "\n",
    "```\n",
    "\n",
    "**Example 3:**\n",
    "\n",
    "```\n",
    "Input: list1 = [], list2 = [0]\n",
    "Output: [0]\n",
    "\n",
    "```\n",
    "\n",
    "**Constraints:**\n",
    "\n",
    "- The number of nodes in both lists is in the range `[0, 50]`.\n",
    "- `100 <= Node.val <= 100`\n",
    "- Both `list1` and `list2` are sorted in **non-decreasing** order."
   ]
  },
  {
   "cell_type": "code",
   "execution_count": null,
   "metadata": {},
   "outputs": [],
   "source": []
  }
 ],
 "metadata": {
  "kernelspec": {
   "display_name": "Python 3",
   "language": "python",
   "name": "python3"
  },
  "language_info": {
   "codemirror_mode": {
    "name": "ipython",
    "version": 3
   },
   "file_extension": ".py",
   "mimetype": "text/x-python",
   "name": "python",
   "nbconvert_exporter": "python",
   "pygments_lexer": "ipython3",
   "version": "3.8.5"
  }
 },
 "nbformat": 4,
 "nbformat_minor": 4
}

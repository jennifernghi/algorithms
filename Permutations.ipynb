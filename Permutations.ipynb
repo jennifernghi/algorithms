{
 "cells": [
  {
   "cell_type": "markdown",
   "metadata": {},
   "source": [
    "Given an array `nums` of distinct integers, return *all the possible permutations*. You can return the answer in **any order**.\n",
    "\n",
    "**Example 1:**\n",
    "\n",
    "```\n",
    "Input: nums = [1,2,3]\n",
    "Output: [[1,2,3],[1,3,2],[2,1,3],[2,3,1],[3,1,2],[3,2,1]]\n",
    "\n",
    "```\n",
    "\n",
    "**Example 2:**\n",
    "\n",
    "```\n",
    "Input: nums = [0,1]\n",
    "Output: [[0,1],[1,0]]\n",
    "\n",
    "```\n",
    "\n",
    "**Example 3:**\n",
    "\n",
    "```\n",
    "Input: nums = [1]\n",
    "Output: [[1]]\n",
    "\n",
    "```\n",
    "\n",
    "**Constraints:**\n",
    "\n",
    "- `1 <= nums.length <= 6`\n",
    "- `10 <= nums[i] <= 10`\n",
    "- All the integers of `nums` are **unique**."
   ]
  },
  {
   "cell_type": "code",
   "execution_count": 5,
   "metadata": {},
   "outputs": [
    {
     "name": "stdout",
     "output_type": "stream",
     "text": [
      "[[1, 2, 3], [1, 3, 2], [2, 1, 3], [2, 3, 1], [3, 1, 2], [3, 2, 1]]\n",
      "[[0, 1], [1, 0]]\n",
      "[[1]]\n"
     ]
    }
   ],
   "source": [
    "#Using Backtracking\n",
    "class Solution:\n",
    "    def permute(self, nums):\n",
    "        res = []\n",
    "        def find(num_lst,per):\n",
    "            if len(per)==len(nums):\n",
    "                return True\n",
    "            \n",
    "            for i,v in enumerate(num_lst):\n",
    "                per.append(v)\n",
    "                if find(num_lst[:i]+num_lst[i+1:], per):\n",
    "                    res.append(per.copy())\n",
    "                per.pop()\n",
    "        \n",
    "        find(nums,[])\n",
    "        return res\n",
    "    \n",
    "print(Solution().permute(nums = [1,2,3]))\n",
    "print(Solution().permute(nums = [0,1]))\n",
    "print(Solution().permute(nums = [1]))"
   ]
  },
  {
   "cell_type": "code",
   "execution_count": 6,
   "metadata": {},
   "outputs": [
    {
     "name": "stdout",
     "output_type": "stream",
     "text": [
      "[[1, 2, 3], [1, 3, 2], [2, 1, 3], [2, 3, 1], [3, 2, 1], [3, 1, 2]]\n",
      "[[0, 1], [1, 0]]\n",
      "[[1]]\n"
     ]
    }
   ],
   "source": [
    "#Using Permutaion Swaps\n",
    "class Solution:\n",
    "    def permute(self, nums):\n",
    "        self.res = []\n",
    "        self.permu(nums,0)\n",
    "        return self.res\n",
    "        \n",
    "    def permu(self,n,i):\n",
    "        if i==len(n):\n",
    "            self.res.append(n)\n",
    "            return\n",
    "        j = i\n",
    "        while j <len(n):\n",
    "            t = n.copy()\n",
    "            self.swap(t,j,i)\n",
    "            self.permu(t,i+1)\n",
    "            j+=1\n",
    "            \n",
    "    def swap(self,n,i,j):\n",
    "        t = n[i]\n",
    "        n[i] = n[j]\n",
    "        n[j] = t\n",
    "    \n",
    "print(Solution().permute(nums = [1,2,3]))\n",
    "print(Solution().permute(nums = [0,1]))\n",
    "print(Solution().permute(nums = [1]))"
   ]
  }
 ],
 "metadata": {
  "kernelspec": {
   "display_name": "Python 3",
   "language": "python",
   "name": "python3"
  },
  "language_info": {
   "codemirror_mode": {
    "name": "ipython",
    "version": 3
   },
   "file_extension": ".py",
   "mimetype": "text/x-python",
   "name": "python",
   "nbconvert_exporter": "python",
   "pygments_lexer": "ipython3",
   "version": "3.8.5"
  }
 },
 "nbformat": 4,
 "nbformat_minor": 4
}

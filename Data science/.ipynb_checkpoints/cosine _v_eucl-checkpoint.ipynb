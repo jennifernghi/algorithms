{
 "cells": [
  {
   "cell_type": "code",
   "execution_count": 2,
   "id": "b76d29b3",
   "metadata": {},
   "outputs": [
    {
     "data": {
      "text/plain": [
       "99999999999.0"
      ]
     },
     "execution_count": 2,
     "metadata": {},
     "output_type": "execute_result"
    }
   ],
   "source": [
    "data1 = ['111111111110','000000000001']\n",
    "data2 = ['011111111111','100000000000']\n",
    "\n",
    "import math\n",
    "import numpy as np\n",
    "\n",
    "math.sqrt((int(data1[0])-int(data2[0]))**2)"
   ]
  },
  {
   "cell_type": "code",
   "execution_count": 6,
   "id": "2411723b",
   "metadata": {},
   "outputs": [
    {
     "data": {
      "text/plain": [
       "99999999999.0"
      ]
     },
     "execution_count": 6,
     "metadata": {},
     "output_type": "execute_result"
    }
   ],
   "source": [
    "math.sqrt((int(data1[0])-int(data2[0]))**2)"
   ]
  }
 ],
 "metadata": {
  "kernelspec": {
   "display_name": "Python 3",
   "language": "python",
   "name": "python3"
  },
  "language_info": {
   "codemirror_mode": {
    "name": "ipython",
    "version": 3
   },
   "file_extension": ".py",
   "mimetype": "text/x-python",
   "name": "python",
   "nbconvert_exporter": "python",
   "pygments_lexer": "ipython3",
   "version": "3.9.7"
  }
 },
 "nbformat": 4,
 "nbformat_minor": 5
}

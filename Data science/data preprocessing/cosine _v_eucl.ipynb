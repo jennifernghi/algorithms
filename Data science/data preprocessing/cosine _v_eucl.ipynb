{
 "cells": [
  {
   "cell_type": "code",
   "execution_count": 9,
   "id": "eea6adfe",
   "metadata": {},
   "outputs": [
    {
     "name": "stdout",
     "output_type": "stream",
     "text": [
      "eucl = 1.4142135623730951\n",
      "consine = 0.9090909090909091\n"
     ]
    }
   ],
   "source": [
    "x = [1, 1, 1, 1, 1, 1, 1, 1, 1, 1, 1, 0]\n",
    "y = [0, 1, 1, 1, 1, 1, 1, 1, 1, 1, 1, 1]\n",
    "\n",
    "import math\n",
    "import numpy as np\n",
    "\n",
    "\n",
    "print(f\"eucl = {math.sqrt(sum([(x_ - y_) ** 2 for x_, y_ in zip(x, y)]))}\")\n",
    "print(f\"consine = {np.dot(x,y) / ( math.sqrt(sum([x_**2 for x_ in x ])) *  math.sqrt(sum([y_**2 for y_ in y ])) )}\")"
   ]
  },
  {
   "cell_type": "code",
   "execution_count": null,
   "id": "200d6444",
   "metadata": {},
   "outputs": [],
   "source": [
    "x = [1, 1, 1, 1, 0, 0, 0, 0, 0, 0, 0, 1]\n",
    "y = [0, 1, 1, 1, 1, 1, 1, 1, 1, 1, 1, 1]\n",
    "\n",
    "\n",
    "print(f\"eucl = {math.sqrt(sum([(x_ - y_) ** 2 for x_, y_ in zip(x, y)]))}\")\n",
    "print(f\"consine = {np.dot(x,y) / ( math.sqrt(sum([x_**2 for x_ in x ])) *  math.sqrt(sum([y_**2 for y_ in y ])) )}\")"
   ]
  }
 ],
 "metadata": {
  "kernelspec": {
   "display_name": "Python 3",
   "language": "python",
   "name": "python3"
  },
  "language_info": {
   "codemirror_mode": {
    "name": "ipython",
    "version": 3
   },
   "file_extension": ".py",
   "mimetype": "text/x-python",
   "name": "python",
   "nbconvert_exporter": "python",
   "pygments_lexer": "ipython3",
   "version": "3.9.7"
  }
 },
 "nbformat": 4,
 "nbformat_minor": 5
}

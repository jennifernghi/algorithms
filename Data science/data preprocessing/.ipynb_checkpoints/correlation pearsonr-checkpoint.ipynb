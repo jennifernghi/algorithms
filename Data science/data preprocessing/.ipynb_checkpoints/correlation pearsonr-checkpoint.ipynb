{
 "cells": [
  {
   "cell_type": "code",
   "execution_count": 2,
   "metadata": {},
   "outputs": [
    {
     "name": "stdout",
     "output_type": "stream",
     "text": [
      "Correlation a with b: (1.0, 0.0)\n",
      "Correlation c with d: (0.3289376658726216, 0.4262865841210123)\n"
     ]
    }
   ],
   "source": [
    "from scipy.stats.stats import pearsonr\n",
    "\n",
    "x = [1, 2, 3, 4]\n",
    "\n",
    "y = [2, 4, 6, 8]\n",
    "\n",
    "\n",
    "\n",
    "print(\"Correlation x with b: \" + str(pearsonr(x,y)))\n",
    "\n",
    "print(\"Correlation c with d: \" + str(pearsonr(c,d)))"
   ]
  },
  {
   "cell_type": "code",
   "execution_count": 4,
   "metadata": {},
   "outputs": [
    {
     "data": {
      "text/plain": [
       "1.0"
      ]
     },
     "execution_count": 4,
     "metadata": {},
     "output_type": "execute_result"
    }
   ],
   "source": [
    "import numpy as np\n",
    "import math\n",
    "x_mean = np.mean(x)\n",
    "y_mean = np.mean(y)\n",
    "covariance_x_y = 1/(sum(1 for _ in zip(x, y))-1) * sum([(x_ - x_mean) * (y_ - y_mean) for x_, y_ in zip(x, y) ])\n",
    "s_x = math.sqrt(1/(len(x)-1) * sum([(x_ - x_mean)**2 for x_  in x])) \n",
    "s_y = math.sqrt(1/(len(y)-1) * sum([(y_ - y_mean)**2 for y_  in y])) \n",
    "\n",
    "corr_x_y = covariance_x_y/(s_x* s_y)\n",
    "corr_x_y"
   ]
  },
  {
   "cell_type": "code",
   "execution_count": 5,
   "metadata": {},
   "outputs": [
    {
     "data": {
      "text/plain": [
       "0.32893766587262174"
      ]
     },
     "execution_count": 5,
     "metadata": {},
     "output_type": "execute_result"
    }
   ],
   "source": [
    "x = [1,4,6,9,15,55,62,-5]\n",
    "\n",
    "y = [-2,-8,-9,-12,-80,14,15,2]\n",
    "\n",
    " \n",
    "x_mean = np.mean(x)\n",
    "y_mean = np.mean(y)\n",
    "covariance_x_y = 1/(sum(1 for _ in zip(x, y))-1) * sum([(x_ - x_mean) * (y_ - y_mean) for x_, y_ in zip(x, y) ])\n",
    "s_x = math.sqrt(1/(len(x)-1) * sum([(x_ - x_mean)**2 for x_  in x])) \n",
    "s_y = math.sqrt(1/(len(y)-1) * sum([(y_ - y_mean)**2 for y_  in y])) \n",
    "\n",
    "corr_x_y = covariance_x_y/(s_x* s_y)\n",
    "corr_x_y"
   ]
  }
 ],
 "metadata": {
  "kernelspec": {
   "display_name": "Python 3",
   "language": "python",
   "name": "python3"
  },
  "language_info": {
   "codemirror_mode": {
    "name": "ipython",
    "version": 3
   },
   "file_extension": ".py",
   "mimetype": "text/x-python",
   "name": "python",
   "nbconvert_exporter": "python",
   "pygments_lexer": "ipython3",
   "version": "3.8.5"
  }
 },
 "nbformat": 4,
 "nbformat_minor": 4
}

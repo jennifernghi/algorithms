{
 "cells": [
  {
   "cell_type": "code",
   "execution_count": 42,
   "metadata": {},
   "outputs": [
    {
     "name": "stdout",
     "output_type": "stream",
     "text": [
      "-1\n"
     ]
    }
   ],
   "source": [
    " \"\"\"\n",
    "    We basically ignore half of the elements just after one comparison.\n",
    "\n",
    "    1. Compare x with the middle element.\n",
    "    2. If x matches with the middle element, we return the mid index.\n",
    "    3. Else If x is greater than the mid element, then x can only lie in the right half subarray after the mid element. So we recur for the right half.\n",
    "    4. Else (x is smaller) recur for the left half.\n",
    "\n",
    "    **Recursive** implementation of Binary Search\n",
    "    \"\"\"\n",
    "class Solution:\n",
    "    def search(self, nums: list, target: int) -> int:\n",
    "        return self.binary_search(nums, 0, len(nums)-1, target)\n",
    "\n",
    "    def binary_search(self, arr, left, right, target):\n",
    "\n",
    "        if right >= left:\n",
    "\n",
    "            mid = left + (right - left) // 2\n",
    "\n",
    "            if arr[mid] == target:\n",
    "                return mid\n",
    "\n",
    "            # search on the left\n",
    "            elif arr[mid] > target:\n",
    "                return self.binary_search(arr, left, mid-1, target)\n",
    "\n",
    "            # search on the right\n",
    "            else:\n",
    "                return self.binary_search(arr, mid + 1, right, target)\n",
    "\n",
    "        else:\n",
    "            # Element is not present in the array\n",
    "            return -1\n",
    "    \n",
    "# print(search([-1,0,3,5,9,12], 9))\n",
    "print(Solution().search([-1,0,3,5,9,12], 2))"
   ]
  },
  {
   "cell_type": "markdown",
   "metadata": {},
   "source": [
    "Input: nums = [-1,0,3,5,9,12], target = 9\n",
    "\n",
    "Output: 4\n",
    "\n",
    "Explanation: 9 exists in nums and its index is 4"
   ]
  },
  {
   "cell_type": "markdown",
   "metadata": {},
   "source": [
    "Input: nums = [-1,0,3,5,9,12], target = 2\n",
    "    \n",
    "Output: -1\n",
    "\n",
    "Explanation: 2 does not exist in nums so return -1"
   ]
  }
 ],
 "metadata": {
  "kernelspec": {
   "display_name": "Python 3",
   "language": "python",
   "name": "python3"
  },
  "language_info": {
   "codemirror_mode": {
    "name": "ipython",
    "version": 3
   },
   "file_extension": ".py",
   "mimetype": "text/x-python",
   "name": "python",
   "nbconvert_exporter": "python",
   "pygments_lexer": "ipython3",
   "version": "3.8.5"
  }
 },
 "nbformat": 4,
 "nbformat_minor": 4
}

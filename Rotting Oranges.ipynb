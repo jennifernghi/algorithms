{
 "cells": [
  {
   "cell_type": "markdown",
   "metadata": {},
   "source": [
    "You are given an `m x n` `grid` where each cell can have one of three values:\n",
    "\n",
    "- `0` representing an empty cell,\n",
    "- `1` representing a fresh orange, or\n",
    "- `2` representing a rotten orange.\n",
    "\n",
    "Every minute, any fresh orange that is **4-directionally adjacent** to a rotten orange becomes rotten.\n",
    "\n",
    "Return *the minimum number of minutes that must elapse until no cell has a fresh orange*. If *this is impossible, return* `-1`.\n",
    "\n",
    "**Example 1:**\n",
    "\n",
    "![https://assets.leetcode.com/uploads/2019/02/16/oranges.png](https://assets.leetcode.com/uploads/2019/02/16/oranges.png)\n",
    "\n",
    "```\n",
    "Input: grid = [[2,1,1],[1,1,0],[0,1,1]]\n",
    "Output: 4\n",
    "\n",
    "```\n",
    "\n",
    "**Example 2:**\n",
    "\n",
    "```\n",
    "Input: grid = [[2,1,1],[0,1,1],[1,0,1]]\n",
    "Output: -1\n",
    "Explanation: The orange in the bottom left corner (row 2, column 0) is never rotten, because rotting only happens 4-directionally.\n",
    "\n",
    "```\n",
    "\n",
    "**Example 3:**\n",
    "\n",
    "```\n",
    "Input: grid = [[0,2]]\n",
    "Output: 0\n",
    "Explanation: Since there are already no fresh oranges at minute 0, the answer is just 0.\n",
    "\n",
    "```\n",
    "\n",
    "**Constraints:**\n",
    "\n",
    "- `m == grid.length`\n",
    "- `n == grid[i].length`\n",
    "- `1 <= m, n <= 10`\n",
    "- `grid[i][j]` is `0`, `1`, or `2`."
   ]
  },
  {
   "cell_type": "code",
   "execution_count": 4,
   "metadata": {},
   "outputs": [
    {
     "name": "stdout",
     "output_type": "stream",
     "text": [
      "4\n"
     ]
    }
   ],
   "source": [
    "import collections\n",
    "class Solution:\n",
    "    def orangesRotting(self, grid) -> int:\n",
    "        cells = collections.deque()\n",
    "        visited = set()\n",
    "        rows, cols = len(grid), len(grid[0])\n",
    "        fresh_oranges = 0\n",
    "        \n",
    "        # find a rotten orange\n",
    "        for i in range(rows):\n",
    "            for j in range(cols):\n",
    "                if grid[i][j] == 2:\n",
    "                    cells.append((i, j))\n",
    "                elif grid[i][j] == 1:\n",
    "                    fresh_oranges += 1\n",
    "        \n",
    "        cells.appendleft((-1,-1))\n",
    "        time = -1\n",
    "        while cells:\n",
    "            \n",
    "            row, col = cells.pop()\n",
    "            if row == -1:\n",
    "                time += 1\n",
    "                if cells:\n",
    "                    cells.appendleft((-1, -1))\n",
    "            else:        \n",
    "                for r, c in((row, col - 1), (row, col + 1), (row - 1, col), (row + 1, col)):\n",
    "                    if 0 <= r < rows and 0 <= c < cols:\n",
    "                        if grid[r][c] == 1:\n",
    "                            grid[r][c] = 2\n",
    "                            fresh_oranges -= 1\n",
    "                            cells.appendleft((r, c))\n",
    "                        \n",
    "            visited.add((row, col))\n",
    "                        \n",
    "                    \n",
    "                  \n",
    "        return time if not fresh_oranges else -1\n",
    "    \n",
    "print(Solution().orangesRotting( grid = [[2,1,1],[1,1,0],[0,1,1]]))"
   ]
  }
 ],
 "metadata": {
  "kernelspec": {
   "display_name": "Python 3",
   "language": "python",
   "name": "python3"
  },
  "language_info": {
   "codemirror_mode": {
    "name": "ipython",
    "version": 3
   },
   "file_extension": ".py",
   "mimetype": "text/x-python",
   "name": "python",
   "nbconvert_exporter": "python",
   "pygments_lexer": "ipython3",
   "version": "3.8.5"
  }
 },
 "nbformat": 4,
 "nbformat_minor": 4
}

{
 "cells": [
  {
   "cell_type": "code",
   "execution_count": 9,
   "metadata": {},
   "outputs": [
    {
     "name": "stdout",
     "output_type": "stream",
     "text": [
      "III\n",
      "3\n",
      "LVIII\n",
      "58\n",
      "MYRQ\n",
      "1994\n"
     ]
    }
   ],
   "source": [
    "class Solution:\n",
    "    def romanToInt(self, s: str) -> int:\n",
    "        result = 0\n",
    "        values = {\n",
    "            \"I\": 1,\n",
    "            \"V\": 5,\n",
    "            \"X\": 10,\n",
    "            \"L\": 50,\n",
    "            \"C\": 100,\n",
    "            \"D\": 500,\n",
    "            \"M\": 1000,\n",
    "\n",
    "            # Substraction letters\n",
    "            \"Q\": 4,\n",
    "            \"W\": 9,\n",
    "            \"E\": 40,\n",
    "            \"R\": 90,\n",
    "            \"T\": 400,\n",
    "            \"Y\": 900,\n",
    "        }\n",
    "\n",
    "        # Replacing substractions\n",
    "        replacements = {\n",
    "            \"IV\": \"Q\",\n",
    "            \"IX\": \"W\",\n",
    "            \"XL\": \"E\",\n",
    "            \"XC\": \"R\",\n",
    "            \"CD\": \"T\",\n",
    "            \"CM\": \"Y\",\n",
    "        }\n",
    "\n",
    "        # Check for substractions and replacing\n",
    "        for pair in replacements:\n",
    "            s = s.replace(pair, replacements[pair])\n",
    "         \n",
    "        # Calculating\n",
    "        for letter in s:\n",
    "            result += values[letter]\n",
    "\n",
    "        return result\n",
    "\n",
    "print(Solution().romanToInt(\"III\"))\n",
    "print(Solution().romanToInt(\"LVIII\"))\n",
    "print(Solution().romanToInt(\"MCMXCIV\"))\n",
    "\n"
   ]
  },
  {
   "cell_type": "code",
   "execution_count": null,
   "metadata": {},
   "outputs": [],
   "source": []
  }
 ],
 "metadata": {
  "kernelspec": {
   "display_name": "Python 3",
   "language": "python",
   "name": "python3"
  },
  "language_info": {
   "codemirror_mode": {
    "name": "ipython",
    "version": 3
   },
   "file_extension": ".py",
   "mimetype": "text/x-python",
   "name": "python",
   "nbconvert_exporter": "python",
   "pygments_lexer": "ipython3",
   "version": "3.8.5"
  }
 },
 "nbformat": 4,
 "nbformat_minor": 4
}

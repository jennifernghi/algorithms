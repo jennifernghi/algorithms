{
 "cells": [
  {
   "cell_type": "markdown",
   "metadata": {},
   "source": [
    "Given an integer array nums, find the contiguous subarray (containing at least one number) which has the largest sum and return its sum.\n",
    "\n",
    "A subarray is a contiguous part of an array.\n",
    "\n",
    "Example 1:\n",
    "\n",
    "Input: nums = [-2,1,-3,4,-1,2,1,-5,4] \\\n",
    "Output: 6 \\\n",
    "Explanation: [4,-1,2,1] has the largest sum = 6. \n",
    "\n",
    "Example 2:\n",
    "\n",
    "Input: nums = [1] \\\n",
    "Output: 1\n",
    "\n",
    "Example 3:\n",
    "\n",
    "Input: nums = [5,4,-1,7,8] \\\n",
    "Output: 23"
   ]
  },
  {
   "cell_type": "markdown",
   "metadata": {},
   "source": [
    "1. Divide the given array in two halves\n",
    "2. Return the maximum of following three:\n",
    "\n",
    "* Maximum subarray sum in left half (Make a recursive call) \n",
    "* Maximum subarray sum in right half (Make a recursive call) \n",
    "* Maximum subarray sum such that the subarray crosses the midpoint"
   ]
  },
  {
   "cell_type": "code",
   "execution_count": 43,
   "metadata": {},
   "outputs": [
    {
     "name": "stdout",
     "output_type": "stream",
     "text": [
      "-1\n"
     ]
    }
   ],
   "source": [
    "class Solution:\n",
    "    def maxSubArray(self, nums: list) -> int:\n",
    "        return self.maxSubArraysum_dac(nums, left=0, right=len(nums)-1)\n",
    "        \n",
    "    def maxSubArraysum_dac(self, nums: list, left: int, right: int ) -> int:\n",
    "        # Base Case: Only one element\n",
    "        if (left == right):\n",
    "            return nums[left]\n",
    "         \n",
    "        # Base Case\n",
    "        if (right - left == 1):\n",
    "            return max(nums[left], nums[right], nums[left]+nums[right])\n",
    " \n",
    "        # middle index\n",
    "        middle = left + (right - left) // 2\n",
    "        \n",
    "    \n",
    "        return max(self.maxSubArraysum_dac(nums, left, middle),\n",
    "               self.maxSubArraysum_dac(nums, middle+1, right),\n",
    "               self.maxSubArraycrosssum_dac(nums, left, middle, right))\n",
    "    \n",
    "    def maxSubArraycrosssum_dac(self, nums, left:int, middle:int, right:int) -> int:\n",
    "        \"\"\"\n",
    "        sum of cross section of middle value\n",
    "        \"\"\"\n",
    "        \n",
    "        # sum of the left side\n",
    "        temp_sum = 0\n",
    "        max_left_sum = -99999999999999\n",
    "        for i in range(middle, left-1, -1):\n",
    "            temp_sum +=  nums[i]\n",
    "            \n",
    "            \n",
    "            if (temp_sum > max_left_sum):\n",
    "                max_left_sum = temp_sum\n",
    "                \n",
    "\n",
    "        # sum of the right side \n",
    "        temp_sum = 0\n",
    "        max_right_sum = -99999999999999\n",
    "        for i in range(middle + 1, right + 1):\n",
    "            temp_sum += nums[i]\n",
    "            \n",
    "            if (temp_sum > max_right_sum):\n",
    "                max_right_sum = temp_sum\n",
    "\n",
    "        return max(max_left_sum + max_right_sum, max_left_sum, max_right_sum)\n",
    "        \n",
    "print(Solution().maxSubArray([-2,-3,-1]))"
   ]
  },
  {
   "cell_type": "code",
   "execution_count": 12,
   "metadata": {},
   "outputs": [
    {
     "name": "stdout",
     "output_type": "stream",
     "text": [
      "Maximum contiguous sum is  6\n"
     ]
    }
   ],
   "source": [
    "def maxCrossingSum(arr, l, m, h):\n",
    " \n",
    "    # Include elements on left of mid.\n",
    "    sm = 0\n",
    "    left_sum = 0\n",
    " \n",
    "    for i in range(m, l-1, -1):\n",
    "        sm = sm + arr[i]\n",
    " \n",
    "        if (sm > left_sum):\n",
    "            left_sum = sm\n",
    " \n",
    "    # Include elements on right of mid\n",
    "    sm = 0\n",
    "    right_sum = 0\n",
    "    for i in range(m + 1, h + 1):\n",
    "        sm = sm + arr[i]\n",
    " \n",
    "        if (sm > right_sum):\n",
    "            right_sum = sm\n",
    " \n",
    "    # Return sum of elements on left and right of mid\n",
    "    # returning only left_sum + right_sum will fail for [-2, 1]\n",
    "    return max(left_sum + right_sum, left_sum, right_sum)\n",
    "\n",
    "# Returns sum of maximum sum subarray in aa[l..h]\n",
    "def maxSubArraySum(arr, l, h):\n",
    " \n",
    "    # Base Case: Only one element\n",
    "    if (l == h):\n",
    "        return arr[l]\n",
    " \n",
    "    # Find middle point\n",
    "    m = (l + h) // 2\n",
    " \n",
    "    # Return maximum of following three possible cases\n",
    "    # a) Maximum subarray sum in left half\n",
    "    # b) Maximum subarray sum in right half\n",
    "    # c) Maximum subarray sum such that the\n",
    "    #     subarray crosses the midpoint\n",
    "    return max(maxSubArraySum(arr, l, m),\n",
    "               maxSubArraySum(arr, m+1, h),\n",
    "               maxCrossingSum(arr, l, m, h))\n",
    " \n",
    " \n",
    "# Driver Code\n",
    "arr =  [-2,1,-3,4,-1,2,1,-5,4]\n",
    "n = len(arr)\n",
    " \n",
    "max_sum = maxSubArraySum(arr, 0, n-1)\n",
    "print(\"Maximum contiguous sum is \", max_sum)"
   ]
  }
 ],
 "metadata": {
  "kernelspec": {
   "display_name": "Python 3",
   "language": "python",
   "name": "python3"
  },
  "language_info": {
   "codemirror_mode": {
    "name": "ipython",
    "version": 3
   },
   "file_extension": ".py",
   "mimetype": "text/x-python",
   "name": "python",
   "nbconvert_exporter": "python",
   "pygments_lexer": "ipython3",
   "version": "3.8.5"
  }
 },
 "nbformat": 4,
 "nbformat_minor": 4
}

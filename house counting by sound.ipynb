{
 "cells": [
  {
   "cell_type": "code",
   "execution_count": 7,
   "metadata": {},
   "outputs": [
    {
     "name": "stdout",
     "output_type": "stream",
     "text": [
      "2\n",
      "1\n",
      "2\n",
      "2\n"
     ]
    },
    {
     "name": "stderr",
     "output_type": "stream",
     "text": [
      "<>:16: SyntaxWarning: \"is\" with a literal. Did you mean \"==\"?\n",
      "<>:18: SyntaxWarning: \"is\" with a literal. Did you mean \"==\"?\n",
      "<>:20: SyntaxWarning: \"is\" with a literal. Did you mean \"==\"?\n",
      "<>:22: SyntaxWarning: \"is\" with a literal. Did you mean \"==\"?\n",
      "<>:24: SyntaxWarning: \"is\" with a literal. Did you mean \"==\"?\n",
      "<>:38: SyntaxWarning: \"is\" with a literal. Did you mean \"==\"?\n",
      "<>:16: SyntaxWarning: \"is\" with a literal. Did you mean \"==\"?\n",
      "<>:18: SyntaxWarning: \"is\" with a literal. Did you mean \"==\"?\n",
      "<>:20: SyntaxWarning: \"is\" with a literal. Did you mean \"==\"?\n",
      "<>:22: SyntaxWarning: \"is\" with a literal. Did you mean \"==\"?\n",
      "<>:24: SyntaxWarning: \"is\" with a literal. Did you mean \"==\"?\n",
      "<>:38: SyntaxWarning: \"is\" with a literal. Did you mean \"==\"?\n",
      "<ipython-input-7-b785c56016df>:16: SyntaxWarning: \"is\" with a literal. Did you mean \"==\"?\n",
      "  if ch is 'n':\n",
      "<ipython-input-7-b785c56016df>:18: SyntaxWarning: \"is\" with a literal. Did you mean \"==\"?\n",
      "  if ch is 'e':\n",
      "<ipython-input-7-b785c56016df>:20: SyntaxWarning: \"is\" with a literal. Did you mean \"==\"?\n",
      "  if ch is 'i':\n",
      "<ipython-input-7-b785c56016df>:22: SyntaxWarning: \"is\" with a literal. Did you mean \"==\"?\n",
      "  if ch is 'g':\n",
      "<ipython-input-7-b785c56016df>:24: SyntaxWarning: \"is\" with a literal. Did you mean \"==\"?\n",
      "  if ch is 'h':\n",
      "<ipython-input-7-b785c56016df>:38: SyntaxWarning: \"is\" with a literal. Did you mean \"==\"?\n",
      "  if c is 'n' and 'n' not in horse_dict:\n"
     ]
    }
   ],
   "source": [
    "'''\n",
    "There are a lot of horses in the yard, and we want to count how many there are.  Unfortunately, we've only got a recording of the sounds from the yard.  All the horses say \"neigh\".  The problem is they can \"neigh\" many times.  The recording from the yard is sadly all mixed together.  So, we need to figure out from the overlapping sounds how many horses there could be.\n",
    "For example, we've got two horses in the yard, and we hear this \"neigneighh\".  From this recording, we can successfully deduce there are 2 horses.  Another example is \"neighneigh\".  From this example, we can only tell there is one horse in the yard.\n",
    "As an additional complexity, our recording might not be perfect.  If it's a bad recording, we should give \"Invalid\" as the response.\n",
    "The input will be given as a string on one line.  The output should be printed on it's own line.\n",
    "Sample Input\n",
    "nenigehnieighgh\n",
    "Sample Output\n",
    "2\n",
    "'''\n",
    "\n",
    "# This is Python 2\n",
    "import sys\n",
    "\n",
    "def next_char(ch):\n",
    "    if ch is 'n':\n",
    "        return 'e'\n",
    "    if ch is 'e':\n",
    "        return 'i'\n",
    "    if ch is 'i':\n",
    "        return 'g'\n",
    "    if ch is 'g':\n",
    "        return 'h'\n",
    "    if ch is 'h':\n",
    "        return 'n'\n",
    "\n",
    "# count_horse counts the horse from the sound string\n",
    "def count_horse(sound):\n",
    "    # horse_dict is a dict\n",
    "    # key is the next character\n",
    "    # value is an array of horse indexes\n",
    "    horse_dict = {}\n",
    "    horse_cnt = 0\n",
    "    for c in sound:\n",
    "        # if 'n' is in horse_dict\n",
    "        # it means an existing horse is ready to neigh\n",
    "        # otherwise a new horse must exist\n",
    "        if c is 'n' and 'n' not in horse_dict:\n",
    "            horse_cnt += 1\n",
    "            horse_index = horse_cnt\n",
    "        else:\n",
    "         \n",
    "            horse_index = horse_dict[c][-1]\n",
    "            \n",
    "            del horse_dict[c][-1]\n",
    "            \n",
    "            if len(horse_dict[c]) == 0:\n",
    "                del horse_dict[c]\n",
    "        next = next_char(c)\n",
    "        if next not in horse_dict:\n",
    "            horse_dict[next] = []\n",
    "        horse_dict[next] += [horse_index]\n",
    "    return horse_cnt\n",
    "\n",
    "\n",
    "print (count_horse('neigneighh'))\n",
    "print (count_horse('neighneigh'))\n",
    "print (count_horse('nenigehnieighgh'))\n",
    "print (count_horse('nenigehnieighgh'))"
   ]
  }
 ],
 "metadata": {
  "kernelspec": {
   "display_name": "Python 3",
   "language": "python",
   "name": "python3"
  },
  "language_info": {
   "codemirror_mode": {
    "name": "ipython",
    "version": 3
   },
   "file_extension": ".py",
   "mimetype": "text/x-python",
   "name": "python",
   "nbconvert_exporter": "python",
   "pygments_lexer": "ipython3",
   "version": "3.8.5"
  }
 },
 "nbformat": 4,
 "nbformat_minor": 4
}

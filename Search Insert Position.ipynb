{
 "cells": [
  {
   "cell_type": "markdown",
   "metadata": {},
   "source": [
    "Given a sorted array of distinct integers and a target value, return the index if the target is found. If not, return the index where it would be if it were inserted in order.\n",
    "\n",
    "You must write an algorithm with O(log n) runtime complexity.\n",
    "\n",
    "Example 1:\n",
    "\n",
    "Input: nums = [1,3,5,6], target = 5 \\\n",
    "Output: 2 \\\n",
    "Example 2:\n",
    "\n",
    "Input: nums = [1,3,5,6], target = 2 \\\n",
    "Output: 1 \\\n",
    "Example 3:\n",
    "\n",
    "Input: nums = [1,3,5,6], target = 7 \\\n",
    "Output: 4"
   ]
  },
  {
   "cell_type": "code",
   "execution_count": 9,
   "metadata": {},
   "outputs": [
    {
     "name": "stdout",
     "output_type": "stream",
     "text": [
      "0\n"
     ]
    }
   ],
   "source": [
    "class Solution:\n",
    "    def searchInsert(self, nums: list, target: int) -> int:\n",
    "        left = 0\n",
    "        right = len(nums)-1\n",
    "        pos = -1\n",
    "        while left <= right:\n",
    "            mid = left + (right - left) // 2\n",
    "            \n",
    "            if nums[mid] == target:\n",
    "                return mid\n",
    "            \n",
    "            elif nums[mid] > target:\n",
    "                pos = mid\n",
    "                right = mid-1\n",
    "                \n",
    "            else:\n",
    "                pos = mid+1\n",
    "                left = mid + 1\n",
    "            \n",
    "        return pos\n",
    "    \n",
    "print(Solution().searchInsert([-1,0,3,5,9,12], -1))"
   ]
  }
 ],
 "metadata": {
  "kernelspec": {
   "display_name": "Python 3",
   "language": "python",
   "name": "python3"
  },
  "language_info": {
   "codemirror_mode": {
    "name": "ipython",
    "version": 3
   },
   "file_extension": ".py",
   "mimetype": "text/x-python",
   "name": "python",
   "nbconvert_exporter": "python",
   "pygments_lexer": "ipython3",
   "version": "3.8.5"
  }
 },
 "nbformat": 4,
 "nbformat_minor": 4
}

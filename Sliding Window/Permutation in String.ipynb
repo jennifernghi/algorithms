{
 "cells": [
  {
   "cell_type": "markdown",
   "metadata": {},
   "source": [
    "Given two strings `s1` and `s2`, return `true` *if* `s2` *contains a permutation of* `s1`*, or* `false` *otherwise*.\n",
    "\n",
    "In other words, return `true` if one of `s1`'s permutations is the substring of `s2`.\n",
    "\n",
    "**Example 1:**\n",
    "\n",
    "```\n",
    "Input: s1 = \"ab\", s2 = \"eidbaooo\"\n",
    "Output: true\n",
    "Explanation: s2 contains one permutation of s1 (\"ba\").\n",
    "\n",
    "```\n",
    "\n",
    "**Example 2:**\n",
    "\n",
    "```\n",
    "Input: s1 = \"ab\", s2 = \"eidboaoo\"\n",
    "Output: false\n",
    "\n",
    "```\n",
    "\n",
    "**Constraints:**\n",
    "\n",
    "- `1 <= s1.length, s2.length <= 104`\n",
    "- `s1` and `s2` consist of lowercase English letters."
   ]
  },
  {
   "cell_type": "code",
   "execution_count": 9,
   "metadata": {},
   "outputs": [
    {
     "name": "stdout",
     "output_type": "stream",
     "text": [
      "True\n",
      "False\n"
     ]
    }
   ],
   "source": [
    "class Solution:\n",
    "    def checkInclusion(self, s1: str, s2: str) -> bool:\n",
    "        i=0\n",
    "        s1=\"\".join(sorted(s1)) #sort s1 string \n",
    "        n1 = len(s1)\n",
    "        n2 = len(s2)\n",
    "        \n",
    "        while i < (n2-n1+1): #moving sliding window through s2\n",
    "            s2_substring=s2[i:i + n1]\n",
    "            sort_s2_substring=\"\".join(sorted(s2_substring))\n",
    "            if sort_s2_substring==s1:\n",
    "                return True\n",
    "            i+=1\n",
    "            \n",
    "        return False\n",
    "    \n",
    "print(Solution().checkInclusion(s1 = \"ab\", s2 = \"eidbaooo\"))\n",
    "print(Solution().checkInclusion(s1 = \"ab\", s2 = \"eidboaoo\"))"
   ]
  }
 ],
 "metadata": {
  "kernelspec": {
   "display_name": "Python 3",
   "language": "python",
   "name": "python3"
  },
  "language_info": {
   "codemirror_mode": {
    "name": "ipython",
    "version": 3
   },
   "file_extension": ".py",
   "mimetype": "text/x-python",
   "name": "python",
   "nbconvert_exporter": "python",
   "pygments_lexer": "ipython3",
   "version": "3.8.5"
  }
 },
 "nbformat": 4,
 "nbformat_minor": 4
}

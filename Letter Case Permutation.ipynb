{
 "cells": [
  {
   "cell_type": "markdown",
   "metadata": {},
   "source": [
    "Given a string `s`, you can transform every letter individually to be lowercase or uppercase to create another string.\n",
    "\n",
    "Return *a list of all possible strings we could create*. Return the output in **any order**.\n",
    "\n",
    "**Example 1:**\n",
    "\n",
    "```\n",
    "Input: s = \"a1b2\"\n",
    "Output: [\"a1b2\",\"a1B2\",\"A1b2\",\"A1B2\"]\n",
    "\n",
    "```\n",
    "\n",
    "**Example 2:**\n",
    "\n",
    "```\n",
    "Input: s = \"3z4\"\n",
    "Output: [\"3z4\",\"3Z4\"]\n",
    "\n",
    "```\n",
    "\n",
    "**Constraints:**\n",
    "\n",
    "- `1 <= s.length <= 12`\n",
    "- `s` consists of lowercase English letters, uppercase English letters, and digits."
   ]
  },
  {
   "cell_type": "code",
   "execution_count": 2,
   "metadata": {},
   "outputs": [
    {
     "name": "stdout",
     "output_type": "stream",
     "text": [
      "['a1b2', 'a1B2', 'A1b2', 'A1B2']\n",
      "['3z4', '3Z4']\n"
     ]
    }
   ],
   "source": [
    "#backtracking\n",
    "class Solution:\n",
    "    def letterCasePermutation(self, s: str) :\n",
    "        n  = len(s)\n",
    "        rez = []\n",
    "        \n",
    "        def convert(c):\n",
    "            if c >= 'A' and c <= 'Z':\n",
    "                return c.lower()\n",
    "            elif  c >= 'a' and c <= 'z':\n",
    "                return c.upper()\n",
    "            else:\n",
    "                return c\n",
    "            \n",
    "        def dfs(prefix):\n",
    "            if len(prefix) == n:\n",
    "                rez.append(prefix)\n",
    "                return\n",
    "            ch = s[len(prefix)]  \n",
    "            dfs(prefix + ch)\n",
    "            if ch.isalpha():\n",
    "                ch2 = convert(ch)\n",
    "                dfs(prefix + ch2)\n",
    "            \n",
    "        dfs(\"\")\n",
    "        return rez\n",
    "    \n",
    "\n",
    "print(Solution().letterCasePermutation(s = \"a1b2\"))\n",
    "print(Solution().letterCasePermutation(s = \"3z4\"))"
   ]
  },
  {
   "cell_type": "code",
   "execution_count": 3,
   "metadata": {},
   "outputs": [
    {
     "name": "stdout",
     "output_type": "stream",
     "text": [
      "['a1b2', 'a1B2', 'A1b2', 'A1B2']\n",
      "['3z4', '3Z4']\n"
     ]
    }
   ],
   "source": [
    "#backtracking\n",
    "class Solution:\n",
    "    def letterCasePermutation(self, s: str) :\n",
    "        s = list(s)\n",
    "        res = []\n",
    "        def find(i):\n",
    "            if i==len(s):\n",
    "                res.append(''.join(s))\n",
    "                return True\n",
    "            v = s[i]\n",
    "            if v.isalpha():\n",
    "                s[i] = v.lower()\n",
    "                find(i+1)\n",
    "                s[i] = v.upper()\n",
    "            find(i+1)\n",
    "        \n",
    "        find(0)\n",
    "        return res\n",
    "    \n",
    "\n",
    "print(Solution().letterCasePermutation(s = \"a1b2\"))\n",
    "print(Solution().letterCasePermutation(s = \"3z4\"))"
   ]
  }
 ],
 "metadata": {
  "kernelspec": {
   "display_name": "Python 3",
   "language": "python",
   "name": "python3"
  },
  "language_info": {
   "codemirror_mode": {
    "name": "ipython",
    "version": 3
   },
   "file_extension": ".py",
   "mimetype": "text/x-python",
   "name": "python",
   "nbconvert_exporter": "python",
   "pygments_lexer": "ipython3",
   "version": "3.8.5"
  }
 },
 "nbformat": 4,
 "nbformat_minor": 4
}

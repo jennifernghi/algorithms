{
 "cells": [
  {
   "cell_type": "markdown",
   "metadata": {},
   "source": [
    "Given a string s, reverse the order of characters in each word within a sentence while still preserving whitespace and initial word order.\n",
    "\n",
    " \n",
    "\n",
    "Example 1:\n",
    "\n",
    "Input: s = \"Let's take LeetCode contest\" \\\n",
    "Output: \"s'teL ekat edoCteeL tsetnoc\"\n",
    "\n",
    "Example 2:\n",
    "\n",
    "Input: s = \"God Ding\" \\\n",
    "Output: \"doG gniD\""
   ]
  },
  {
   "cell_type": "code",
   "execution_count": 17,
   "metadata": {},
   "outputs": [
    {
     "data": {
      "text/plain": [
       "\"s'teL ekat edoCteeL tsetnoc\""
      ]
     },
     "execution_count": 17,
     "metadata": {},
     "output_type": "execute_result"
    }
   ],
   "source": [
    "class Solution:\n",
    "    def reverseWords(self, s: str) -> str:\n",
    "        s_lst = s.split()\n",
    "        char_split = [list(x) for x in s_lst]\n",
    "        for i, v in enumerate(char_split):\n",
    "            head = 0\n",
    "            tail = len(v)-1\n",
    "            while head <= tail:\n",
    "                v[head], v[tail] = v[tail], v[head]\n",
    "                head +=1\n",
    "                tail -=1\n",
    "                \n",
    "            s_lst[i] = \"\".join(v)\n",
    "        \n",
    "        return \" \".join(s_lst)\n",
    "        \n",
    "            \n",
    "Solution().reverseWords(s = \"Let's take LeetCode contest\")"
   ]
  }
 ],
 "metadata": {
  "kernelspec": {
   "display_name": "Python 3",
   "language": "python",
   "name": "python3"
  },
  "language_info": {
   "codemirror_mode": {
    "name": "ipython",
    "version": 3
   },
   "file_extension": ".py",
   "mimetype": "text/x-python",
   "name": "python",
   "nbconvert_exporter": "python",
   "pygments_lexer": "ipython3",
   "version": "3.8.5"
  }
 },
 "nbformat": 4,
 "nbformat_minor": 4
}

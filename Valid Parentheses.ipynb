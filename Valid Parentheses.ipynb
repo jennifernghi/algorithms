{
 "cells": [
  {
   "cell_type": "code",
   "execution_count": 27,
   "metadata": {},
   "outputs": [
    {
     "name": "stdout",
     "output_type": "stream",
     "text": [
      "True\n",
      "True\n",
      "False\n",
      "False\n"
     ]
    }
   ],
   "source": [
    "class Solution:\n",
    "    def isValid(self, s: str) -> bool:\n",
    "        if len(s) <= 1:\n",
    "            return False\n",
    "        stack = []\n",
    "        brc = {\n",
    "            \"{\": \"}\",\n",
    "            \"[\": \"]\",\n",
    "            \"(\": \")\"\n",
    "        }\n",
    "        for i in s:\n",
    "            if i in brc.keys():\n",
    "                stack.append(i)\n",
    "            else:\n",
    "                if len(stack) == 0 or brc[stack.pop()] != i:\n",
    "                    return False\n",
    "        return len(stack) == 0\n",
    "        \n",
    "        \n",
    "        \n",
    "print(Solution().isValid(s = \"()\"))\n",
    "print(Solution().isValid(s = \"()[]{}\"))\n",
    "print(Solution().isValid(s = \"(]\"))\n",
    "print(Solution().isValid(s = \"([)]\"))\n",
    "\n"
   ]
  }
 ],
 "metadata": {
  "kernelspec": {
   "display_name": "Python 3",
   "language": "python",
   "name": "python3"
  },
  "language_info": {
   "codemirror_mode": {
    "name": "ipython",
    "version": 3
   },
   "file_extension": ".py",
   "mimetype": "text/x-python",
   "name": "python",
   "nbconvert_exporter": "python",
   "pygments_lexer": "ipython3",
   "version": "3.8.5"
  }
 },
 "nbformat": 4,
 "nbformat_minor": 4
}
